{
 "cells": [
  {
   "cell_type": "markdown",
   "id": "a96173cf",
   "metadata": {},
   "source": [
    "# Tutorial on regexmodel"
   ]
  },
  {
   "cell_type": "markdown",
   "id": "d52e532f",
   "metadata": {},
   "source": [
    "## Setup and installation"
   ]
  },
  {
   "cell_type": "markdown",
   "id": "5bcc3f78",
   "metadata": {},
   "source": [
    "If you haven't installed `regexmodel` yet, including the optional dependencies, do so now:"
   ]
  },
  {
   "cell_type": "code",
   "execution_count": 1,
   "id": "881dd17b",
   "metadata": {},
   "outputs": [],
   "source": [
    "# %pip install git+https://github.com/sodascience/regexmodel.git[tutorial]"
   ]
  },
  {
   "cell_type": "markdown",
   "id": "b748a354",
   "metadata": {},
   "source": [
    "Normally we would already have data that we want to model and synthesize, but for this tutorial we will use the faker package to generate that data for us. We will use fake email addresses."
   ]
  },
  {
   "cell_type": "code",
   "execution_count": 2,
   "id": "85dbeb0c",
   "metadata": {},
   "outputs": [
    {
     "data": {
      "text/plain": [
       "['wilkinsleah@yahoo.com',\n",
       " 'ashlee25@sawyer.net',\n",
       " 'michaelrubio@schmidt.biz',\n",
       " 'jamiemiller@morris-ellis.com',\n",
       " 'smithelizabeth@gmail.com',\n",
       " 'cory61@lane.net',\n",
       " 'hallmorgan@gmail.com',\n",
       " 'brianna82@petty.com',\n",
       " 'michaelpeterson@morris-williams.info',\n",
       " 'lvang@barton.com']"
      ]
     },
     "execution_count": 2,
     "metadata": {},
     "output_type": "execute_result"
    }
   ],
   "source": [
    "from faker import Faker\n",
    "\n",
    "fake = Faker(\"en\")\n",
    "Faker.seed(12345)\n",
    "email_addresses = [fake.ascii_email() for _ in range(1000)]\n",
    "email_addresses[:10]"
   ]
  },
  {
   "cell_type": "markdown",
   "id": "3bf81a26",
   "metadata": {},
   "source": [
    "## Modeling the structured strings\n",
    "\n",
    "Now we will use the regexmodel package to model the data:"
   ]
  },
  {
   "cell_type": "code",
   "execution_count": 3,
   "id": "41c46269",
   "metadata": {},
   "outputs": [],
   "source": [
    "from regexmodel import RegexModel\n",
    "\n",
    "model = RegexModel.fit(email_addresses)"
   ]
  },
  {
   "cell_type": "markdown",
   "id": "f59f6b94",
   "metadata": {},
   "source": [
    "Let's first see how the good the model is by synthesizing new email addresses:"
   ]
  },
  {
   "cell_type": "code",
   "execution_count": 4,
   "id": "17d658b4",
   "metadata": {},
   "outputs": [
    {
     "data": {
      "text/plain": [
       "['smwf@hewpky.com',\n",
       " 'quumzyrfto@prro.com',\n",
       " 'syrhnuh54@atkz.net',\n",
       " 'vhxnbazi@bbmjxhn-boar.org',\n",
       " 'fjjphdhk39@qkte.com',\n",
       " 'cqnnkfmehasy@bwdl.com',\n",
       " 'jzdfifaogkatzozog@vnhkuu-fnaba.com',\n",
       " 'ismcjjgzamxuife@fsasucahe.com',\n",
       " 'jjswmuprnfx@lyhxck.com',\n",
       " 'tzooc@vvranncgb.com']"
      ]
     },
     "execution_count": 4,
     "metadata": {},
     "output_type": "execute_result"
    }
   ],
   "source": [
    "[model.draw() for _ in range(10)]"
   ]
  },
  {
   "cell_type": "markdown",
   "id": "a3d9d942",
   "metadata": {},
   "source": [
    "While certainly not perfect, it certainly isn't so bad either, given that we have given the model only positive examples!\n",
    "\n",
    "Now let's look at the serialization of the model:"
   ]
  },
  {
   "cell_type": "code",
   "execution_count": 5,
   "id": "a7821a86",
   "metadata": {
    "scrolled": true
   },
   "outputs": [
    {
     "data": {
      "text/plain": [
       "[{'regex': '[a-z]{3,18}[0-9]{2,2}[@][a-z]{4,9}[\\\\\\\\.][c][o][m]',\n",
       "  'weights': [1000, 259, 259, 791, 746, 705, 705, 705],\n",
       "  'side_branches_before': [{'i_branch': 0, 'data': {'weight': 466}},\n",
       "   {'i_branch': 2,\n",
       "    'data': {'regex': '[a-z]{4,18}',\n",
       "     'weights': [533],\n",
       "     'side_branches_before': [{'i_branch': 0, 'data': {'weight': 533}}],\n",
       "     'side_branches_after': []}},\n",
       "   {'i_branch': 2, 'data': {'weight': 1}}],\n",
       "  'side_branches_after': [{'i_branch': 0,\n",
       "    'data': {'regex': '[@][a-z]{3,9}[\\\\\\\\-][a-z]{4,9}[\\\\\\\\.][c][o][m]',\n",
       "     'weights': [207, 207, 120, 119, 118, 70, 70, 70],\n",
       "     'side_branches_before': [],\n",
       "     'side_branches_after': [{'i_branch': 1,\n",
       "       'data': {'regex': '[\\\\\\\\.][b][i][z]',\n",
       "        'weights': [86, 26, 26, 26],\n",
       "        'side_branches_before': [],\n",
       "        'side_branches_after': [{'i_branch': 0,\n",
       "          'data': {'regex': '[i][n][f][o]',\n",
       "           'weights': [23, 23, 23, 23],\n",
       "           'side_branches_before': [],\n",
       "           'side_branches_after': [{'i_branch': 3, 'data': {'weight': 23}}]}},\n",
       "         {'i_branch': 0,\n",
       "          'data': {'regex': '[n][e][t]',\n",
       "           'weights': [19, 19, 19],\n",
       "           'side_branches_before': [],\n",
       "           'side_branches_after': [{'i_branch': 2, 'data': {'weight': 19}}]}},\n",
       "         {'i_branch': 0,\n",
       "          'data': {'regex': '[o][r][g]',\n",
       "           'weights': [16, 16, 16],\n",
       "           'side_branches_before': [],\n",
       "           'side_branches_after': [{'i_branch': 2, 'data': {'weight': 16}}]}},\n",
       "         {'i_branch': 0, 'data': {'weight': 2}},\n",
       "         {'i_branch': 3, 'data': {'weight': 26}}]}},\n",
       "      {'i_branch': 1, 'data': {'weight': 1}},\n",
       "      {'i_branch': 2, 'data': {'weight': 1}},\n",
       "      {'i_branch': 3, 'data': {'weight': 1}},\n",
       "      {'i_branch': 4,\n",
       "       'data': {'regex': '[i][n][f][o]',\n",
       "        'weights': [16, 16, 16, 16],\n",
       "        'side_branches_before': [],\n",
       "        'side_branches_after': [{'i_branch': 3, 'data': {'weight': 16}}]}},\n",
       "      {'i_branch': 4,\n",
       "       'data': {'regex': '[n][e][t]',\n",
       "        'weights': [15, 15, 15],\n",
       "        'side_branches_before': [],\n",
       "        'side_branches_after': [{'i_branch': 2, 'data': {'weight': 15}}]}},\n",
       "      {'i_branch': 4,\n",
       "       'data': {'regex': '[o][r][g]',\n",
       "        'weights': [11, 11, 11],\n",
       "        'side_branches_before': [],\n",
       "        'side_branches_after': [{'i_branch': 2, 'data': {'weight': 11}}]}},\n",
       "      {'i_branch': 4,\n",
       "       'data': {'regex': '[b][i][z]',\n",
       "        'weights': [6, 6, 6],\n",
       "        'side_branches_before': [],\n",
       "        'side_branches_after': [{'i_branch': 2, 'data': {'weight': 6}}]}},\n",
       "      {'i_branch': 7, 'data': {'weight': 70}}]}},\n",
       "   {'i_branch': 2, 'data': {'weight': 2}},\n",
       "   {'i_branch': 3,\n",
       "    'data': {'regex': '[\\\\\\\\-][a-z]{4,9}[\\\\\\\\.][c][o][m]',\n",
       "     'weights': [42, 41, 40, 26, 26, 26],\n",
       "     'side_branches_before': [],\n",
       "     'side_branches_after': [{'i_branch': 0, 'data': {'weight': 1}},\n",
       "      {'i_branch': 1, 'data': {'weight': 1}},\n",
       "      {'i_branch': 2,\n",
       "       'data': {'regex': '[n][e][t]',\n",
       "        'weights': [6, 6, 6],\n",
       "        'side_branches_before': [],\n",
       "        'side_branches_after': [{'i_branch': 2, 'data': {'weight': 6}}]}},\n",
       "      {'i_branch': 2,\n",
       "       'data': {'regex': '[b][i][z]',\n",
       "        'weights': [3, 3, 3],\n",
       "        'side_branches_before': [],\n",
       "        'side_branches_after': [{'i_branch': 2, 'data': {'weight': 3}}]}},\n",
       "      {'i_branch': 2,\n",
       "       'data': {'regex': '[o][r][g]',\n",
       "        'weights': [3, 3, 3],\n",
       "        'side_branches_before': [],\n",
       "        'side_branches_after': [{'i_branch': 2, 'data': {'weight': 3}}]}},\n",
       "      {'i_branch': 2, 'data': {'weight': 2}},\n",
       "      {'i_branch': 5, 'data': {'weight': 26}}]}},\n",
       "   {'i_branch': 3, 'data': {'weight': 3}},\n",
       "   {'i_branch': 4,\n",
       "    'data': {'regex': '[n][e][t]',\n",
       "     'weights': [12, 12, 12],\n",
       "     'side_branches_before': [],\n",
       "     'side_branches_after': [{'i_branch': 2, 'data': {'weight': 12}}]}},\n",
       "   {'i_branch': 4,\n",
       "    'data': {'regex': '[b][i][z]',\n",
       "     'weights': [10, 10, 10],\n",
       "     'side_branches_before': [],\n",
       "     'side_branches_after': [{'i_branch': 2, 'data': {'weight': 10}}]}},\n",
       "   {'i_branch': 4,\n",
       "    'data': {'regex': '[o][r][g]',\n",
       "     'weights': [10, 10, 10],\n",
       "     'side_branches_before': [],\n",
       "     'side_branches_after': [{'i_branch': 2, 'data': {'weight': 10}}]}},\n",
       "   {'i_branch': 4,\n",
       "    'data': {'regex': '[i][n][f][o]',\n",
       "     'weights': [9, 9, 9, 9],\n",
       "     'side_branches_before': [],\n",
       "     'side_branches_after': [{'i_branch': 3, 'data': {'weight': 9}}]}},\n",
       "   {'i_branch': 7, 'data': {'weight': 705}}]}]"
      ]
     },
     "execution_count": 5,
     "metadata": {},
     "output_type": "execute_result"
    }
   ],
   "source": [
    "model.serialize()"
   ]
  },
  {
   "cell_type": "markdown",
   "id": "87953f7f",
   "metadata": {},
   "source": [
    "The serialization might seem overwhelming at first, but the first regex (`[a-z]{3,18}[0-9]{2,2}[@][a-z]{4,9}[\\\\\\\\.][c][o][m]`) is usually the most important one. We call this the main branch. On this main branch, there will be side branches, for example for \".info\" and \".biz\" email addresses."
   ]
  },
  {
   "cell_type": "markdown",
   "id": "033eecb4",
   "metadata": {},
   "source": [
    "## Modeling performance\n",
    "\n",
    "There are also some modeling statistics that can be computed. Note that computing these can take a while depending on your computer."
   ]
  },
  {
   "cell_type": "code",
   "execution_count": 6,
   "id": "36d52d07",
   "metadata": {},
   "outputs": [
    {
     "data": {
      "text/plain": [
       "{'failed': 18,\n",
       " 'success': 982,\n",
       " 'n_tot_char': 22023,\n",
       " 'n_char_success': 21582,\n",
       " 'n_parameters': 121,\n",
       " 'avg_log_like_per_char': -2.8483489023604314,\n",
       " 'avg_log_like_pc_success': -2.7654002316121136}"
      ]
     },
     "execution_count": 6,
     "metadata": {},
     "output_type": "execute_result"
    }
   ],
   "source": [
    "model.fit_statistics(email_addresses)"
   ]
  },
  {
   "cell_type": "markdown",
   "id": "6f8ce227",
   "metadata": {},
   "source": [
    "What the `fit_statistics` method does is to retrace back whether an email address that is given to it (e.g. johndoe@example.com) has a non-zero probability to be generated by the regex model. As we can see above, there were 18 email addresses in the list that have a probability of 0 to be generated by the model, while the overwhelming majority (982) can be generated with the fitted model.\n",
    "\n",
    "The value `n_parameters` gives the number of nodes in the model, and is thus an indicator of the complexity of the model. This is also correlated with the fit taking longer. We can influence this parameter during fitting by setting the `count_thres` parameter. If we set that threshold higher, we generally have a lower number of parameters and better performance.\n",
    "\n",
    "The statistic `avg_log_like_per_char` (average log-likelihood per character) shows how probable a value is on average per character. To understand this better, let's take a more simple example, where the regex is simply `\\d{2,2}`. For this regex, the log likelihood is simply log(1/10\\*1/10) = -2\\*log(10). Since all values have 2 characters, the average log-likelihood per character is -log(10) ~= 2.30. For failed values (values that cannot be generated by the model), we use a penalty score of -log(1000) per character.\n",
    "\n",
    "Ideally we want to have the lowest `n_parameters` (simplest model) with the highest `success` and the highest log-likelihood."
   ]
  },
  {
   "cell_type": "markdown",
   "id": "7e9fd48e",
   "metadata": {},
   "source": [
    "## Visualization"
   ]
  },
  {
   "cell_type": "markdown",
   "id": "77f1fbae",
   "metadata": {},
   "source": [
    "To more clearly understand how the graph looks like, we can plot the regex model using the `regex_model_to_pyvis` function. To retrace the paths that can be taken, first find the start node and find the main branch.\n",
    "\n",
    "Note: PyVis doesnt work interactively in VSCode/Code OSS."
   ]
  },
  {
   "cell_type": "code",
   "execution_count": 7,
   "id": "da034fef",
   "metadata": {},
   "outputs": [
    {
     "name": "stdout",
     "output_type": "stream",
     "text": [
      "Warning: When  cdn_resources is 'local' jupyter notebook has issues displaying graphics on chrome/safari. Use cdn_resources='in_line' or cdn_resources='remote' if you have issues viewing graphics in a notebook.\n",
      "regex.html\n"
     ]
    },
    {
     "data": {
      "text/html": [
       "\n",
       "        <iframe\n",
       "            width=\"1000px\"\n",
       "            height=\"1000px\"\n",
       "            src=\"regex.html\"\n",
       "            frameborder=\"0\"\n",
       "            allowfullscreen\n",
       "            \n",
       "        ></iframe>\n",
       "        "
      ],
      "text/plain": [
       "<IPython.lib.display.IFrame at 0x7f68a292ab90>"
      ]
     },
     "execution_count": 7,
     "metadata": {},
     "output_type": "execute_result"
    }
   ],
   "source": [
    "from regexmodel.visualization import regex_model_to_pyvis\n",
    "\n",
    "net = regex_model_to_pyvis(model)\n",
    "net.show(\"regex.html\", notebook=True)"
   ]
  }
 ],
 "metadata": {
  "kernelspec": {
   "display_name": "Python 3 (ipykernel)",
   "language": "python",
   "name": "python3"
  },
  "language_info": {
   "codemirror_mode": {
    "name": "ipython",
    "version": 3
   },
   "file_extension": ".py",
   "mimetype": "text/x-python",
   "name": "python",
   "nbconvert_exporter": "python",
   "pygments_lexer": "ipython3",
   "version": "3.11.1"
  }
 },
 "nbformat": 4,
 "nbformat_minor": 5
}
