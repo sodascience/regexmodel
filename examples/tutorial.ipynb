{
 "cells": [
  {
   "cell_type": "markdown",
   "id": "a96173cf",
   "metadata": {},
   "source": [
    "## Tutorial on regexmodel"
   ]
  },
  {
   "cell_type": "markdown",
   "id": "d52e532f",
   "metadata": {},
   "source": [
    "#### Setup and installation"
   ]
  },
  {
   "cell_type": "markdown",
   "id": "5bcc3f78",
   "metadata": {},
   "source": [
    "If you haven't installed `regexmodel` yet, do so now:"
   ]
  },
  {
   "cell_type": "code",
   "execution_count": 1,
   "id": "881dd17b",
   "metadata": {},
   "outputs": [],
   "source": [
    "# %pip install git+https://github.com/sodascience/regexmodel.git"
   ]
  },
  {
   "cell_type": "markdown",
   "id": "904664ae",
   "metadata": {},
   "source": [
    "For this tutorial we will need three packages: regexmodel, faker and matplotlib. Install the two last packages now if they are not install already with:"
   ]
  },
  {
   "cell_type": "code",
   "execution_count": 2,
   "id": "0c66d8b9",
   "metadata": {},
   "outputs": [],
   "source": [
    "# %pip install faker matplotlib"
   ]
  },
  {
   "cell_type": "markdown",
   "id": "f38a7388",
   "metadata": {},
   "source": [
    "Import the packages that were installed:"
   ]
  },
  {
   "cell_type": "code",
   "execution_count": 3,
   "id": "cbd34eef",
   "metadata": {},
   "outputs": [],
   "source": [
    "from matplotlib import pyplot as plt"
   ]
  },
  {
   "cell_type": "markdown",
   "id": "b748a354",
   "metadata": {},
   "source": [
    "Normally we would already have data that we want to model and synthesize, but for this tutorial we will use the faker package to generate that data for us. We will use fake email addresses."
   ]
  },
  {
   "cell_type": "code",
   "execution_count": 4,
   "id": "85dbeb0c",
   "metadata": {},
   "outputs": [
    {
     "data": {
      "text/plain": [
       "['wilkinsleah@yahoo.com',\n",
       " 'ashlee25@sawyer.net',\n",
       " 'michaelrubio@schmidt.biz',\n",
       " 'jamiemiller@morris-ellis.com',\n",
       " 'smithelizabeth@gmail.com',\n",
       " 'cory61@lane.net',\n",
       " 'hallmorgan@gmail.com',\n",
       " 'brianna82@petty.com',\n",
       " 'michaelpeterson@morris-williams.info',\n",
       " 'lvang@barton.com']"
      ]
     },
     "execution_count": 4,
     "metadata": {},
     "output_type": "execute_result"
    }
   ],
   "source": [
    "from faker import Faker\n",
    "\n",
    "fake = Faker(\"en\")\n",
    "Faker.seed(12345)\n",
    "email_addresses = [fake.ascii_email() for _ in range(1000)]\n",
    "email_addresses[:10]"
   ]
  },
  {
   "cell_type": "markdown",
   "id": "3bf81a26",
   "metadata": {},
   "source": [
    "#### Modeling the structured strings\n",
    "\n",
    "Now we will use the regexmodel package to model the data:"
   ]
  },
  {
   "cell_type": "code",
   "execution_count": 5,
   "id": "41c46269",
   "metadata": {},
   "outputs": [
    {
     "name": "stdout",
     "output_type": "stream",
     "text": [
      "[@][a-z]{3,9}[\\-][a-z]{4,9}[\\.][c][o][m] [@][a-z]{3,9}[\\-][a-z]{4,9}[\\.][c][o][m] 0 8\n",
      "['@schmidt.biz' '@morris-ellis.com' '@morris-williams.info' '@vasquez.net'\n",
      " '@davis.info'] ['' '' '' '' '']\n",
      "[@][a-z]{3,9}[\\-][a-z]{4,9}[\\.][c][o][m] [@][a-z]{3,9}[\\-][a-z]{4,9}[\\.][c][o] 0 7\n",
      "['@schmidt.biz' '@morris-williams.info' '@vasquez.net' '@davis.info'\n",
      " '@tyler.biz'] []\n",
      "[@][a-z]{3,9}[\\-][a-z]{4,9}[\\.][c][o][m] [@][a-z]{3,9}[\\-][a-z]{4,9}[\\.][c] 0 6\n",
      "['@schmidt.biz' '@morris-williams.info' '@vasquez.net' '@davis.info'\n",
      " '@tyler.biz'] []\n",
      "[@][a-z]{3,9}[\\-][a-z]{4,9}[\\.][c][o][m] [@][a-z]{3,9}[\\-][a-z]{4,9}[\\.] 0 5\n",
      "['@schmidt.biz' '@morris-williams.info' '@vasquez.net' '@davis.info'\n",
      " '@tyler.biz'] ['info' 'net' 'net' 'net' 'biz']\n",
      "[@][a-z]{3,9}[\\-][a-z]{4,9}[\\.][c][o][m] [@][a-z]{3,9}[\\-][a-z]{4,9} 0 4\n",
      "['@schmidt.biz' '@vasquez.net' '@davis.info' '@tyler.biz' '@johnson.biz'] ['n.com']\n",
      "[@][a-z]{3,9}[\\-][a-z]{4,9}[\\.][c][o][m] [@][a-z]{3,9}[\\-] 0 3\n",
      "['@schmidt.biz' '@vasquez.net' '@davis.info' '@tyler.biz' '@johnson.biz'] ['wu.info']\n",
      "[@][a-z]{3,9}[\\-][a-z]{4,9}[\\.][c][o][m] [@][a-z]{3,9} 0 2\n",
      "['@schmidt.biz' '@vasquez.net' '@davis.info' '@tyler.biz' '@johnson.biz'] ['.biz' '.net' '.info' '.biz' '.biz']\n",
      "[@][a-z]{3,9}[\\-][a-z]{4,9}[\\.][c][o][m] [@] 0 1\n",
      "[] []\n",
      "[\\.][b][i][z] [\\.][b][i][z] 0 4\n",
      "['.biz' '.net' '.info' '.biz' '.biz'] ['' '' '' '' '']\n",
      "[\\.][b][i][z] [\\.][b][i] 0 3\n",
      "['.net' '.info' 'n.biz' '.net' '.info'] []\n",
      "[\\.][b][i][z] [\\.][b] 0 2\n",
      "['.net' '.info' 'n.biz' '.net' '.info'] []\n",
      "[\\.][b][i][z] [\\.] 0 1\n",
      "['.net' '.info' 'n.biz' '.net' '.info'] ['net' 'info' 'net' 'info' 'net']\n",
      "[i][n][f][o] [i][n][f][o] 0 4\n",
      "['net' 'info' 'net' 'info' 'net'] ['' '' '' '' '']\n",
      "[i][n][f][o] [i][n][f] 0 3\n",
      "['net' 'net' 'net' 'net' 'org'] []\n",
      "[i][n][f][o] [i][n] 0 2\n",
      "['net' 'net' 'net' 'net' 'org'] []\n",
      "[i][n][f][o] [i] 0 1\n",
      "['net' 'net' 'net' 'net' 'org'] []\n",
      "[n][e][t] [n][e][t] 0 3\n",
      "['net' 'net' 'net' 'net' 'org'] ['' '' '' '' '']\n",
      "[n][e][t] [n][e] 0 2\n",
      "['org' 'org' 'com' 'com' 'org'] []\n",
      "[n][e][t] [n] 0 1\n",
      "['org' 'org' 'com' 'com' 'org'] []\n",
      "[o][r][g] [o][r][g] 0 3\n",
      "['org' 'org' 'com' 'com' 'org'] ['' '' '' '' '']\n",
      "[o][r][g] [o][r] 0 2\n",
      "['com' 'com'] []\n",
      "[o][r][g] [o] 0 1\n",
      "['com' 'com'] []\n",
      "[i][n][f][o] [i][n][f][o] 0 4\n",
      "['info' 'net' 'net' 'net' 'biz'] ['' '' '' '' '']\n",
      "[i][n][f][o] [i][n][f] 0 3\n",
      "['net' 'net' 'net' 'biz' 'org'] []\n",
      "[i][n][f][o] [i][n] 0 2\n",
      "['net' 'net' 'net' 'biz' 'org'] []\n",
      "[i][n][f][o] [i] 0 1\n",
      "['net' 'net' 'net' 'biz' 'org'] []\n",
      "[n][e][t] [n][e][t] 0 3\n",
      "['net' 'net' 'net' 'biz' 'org'] ['' '' '' '' '']\n",
      "[n][e][t] [n][e] 0 2\n",
      "['biz' 'org' 'biz' 'biz' 'org'] []\n",
      "[n][e][t] [n] 0 1\n",
      "['biz' 'org' 'biz' 'biz' 'org'] []\n",
      "[o][r][g] [o][r][g] 0 3\n",
      "['biz' 'org' 'biz' 'biz' 'org'] ['' '' '' '' '']\n",
      "[o][r][g] [o][r] 0 2\n",
      "['biz' 'biz' 'biz' 'biz' 'biz'] []\n",
      "[o][r][g] [o] 0 1\n",
      "['biz' 'biz' 'biz' 'biz' 'biz'] []\n",
      "[b][i][z] [b][i][z] 0 3\n",
      "['biz' 'biz' 'biz' 'biz' 'biz'] ['' '' '' '' '']\n",
      "[b][i][z] [b][i] 0 2\n",
      "[] []\n",
      "[b][i][z] [b] 0 1\n",
      "[] []\n",
      "[\\-][a-z]{4,9}[\\.][c][o][m] [\\-][a-z]{4,9}[\\.][c][o][m] 0 6\n",
      "['n.com' '-watson.com' '-price.com' '-arnold.com' '-marsh.net'] ['' '' '' '' '']\n",
      "[\\-][a-z]{4,9}[\\.][c][o][m] [\\-][a-z]{4,9}[\\.][c][o] 0 5\n",
      "['n.com' '-marsh.net' 'n.com' '-johnson.net' '-frazier.net'] []\n",
      "[\\-][a-z]{4,9}[\\.][c][o][m] [\\-][a-z]{4,9}[\\.][c] 0 4\n",
      "['n.com' '-marsh.net' 'n.com' '-johnson.net' '-frazier.net'] []\n",
      "[\\-][a-z]{4,9}[\\.][c][o][m] [\\-][a-z]{4,9}[\\.] 0 3\n",
      "['n.com' '-marsh.net' 'n.com' '-johnson.net' '-frazier.net'] ['net' 'net' 'net' 'biz' 'org']\n",
      "[\\-][a-z]{4,9}[\\.][c][o][m] [\\-][a-z]{4,9} 0 2\n",
      "['n.com' 'n.com' 'd.org' '-washington.com' '-kim.net'] ['n.com']\n",
      "[\\-][a-z]{4,9}[\\.][c][o][m] [\\-] 0 1\n",
      "['n.com' 'n.com' 'd.org' '-kim.net'] ['kim.net']\n",
      "[n][e][t] [n][e][t] 0 3\n",
      "['net' 'net' 'net' 'biz' 'org'] ['' '' '' '' '']\n",
      "[n][e][t] [n][e] 0 2\n",
      "['biz' 'org' 'biz' 'info' 'biz'] []\n",
      "[n][e][t] [n] 0 1\n",
      "['biz' 'org' 'biz' 'info' 'biz'] []\n",
      "[b][i][z] [b][i][z] 0 3\n",
      "['biz' 'org' 'biz' 'info' 'biz'] ['' '' '']\n",
      "[b][i][z] [b][i] 0 2\n",
      "['org' 'info' 'info' 'org' 'org'] []\n",
      "[b][i][z] [b] 0 1\n",
      "['org' 'info' 'info' 'org' 'org'] []\n",
      "[o][r][g] [o][r][g] 0 3\n",
      "['org' 'info' 'info' 'org' 'org'] ['' '' '']\n",
      "[o][r][g] [o][r] 0 2\n",
      "['info' 'info'] []\n",
      "[o][r][g] [o] 0 1\n",
      "['info' 'info'] []\n",
      "[n][e][t] [n][e][t] 0 3\n",
      "['net' 'net' 'biz' 'biz' 'biz'] ['' '' '' '' '']\n",
      "[n][e][t] [n][e] 0 2\n",
      "['biz' 'biz' 'biz' 'biz' 'info'] []\n",
      "[n][e][t] [n] 0 1\n",
      "['biz' 'biz' 'biz' 'biz' 'info'] []\n",
      "[b][i][z] [b][i][z] 0 3\n",
      "['biz' 'biz' 'biz' 'biz' 'info'] ['' '' '' '' '']\n",
      "[b][i][z] [b][i] 0 2\n",
      "['info' 'org' 'org' 'info' 'info'] []\n",
      "[b][i][z] [b] 0 1\n",
      "['info' 'org' 'org' 'info' 'info'] []\n",
      "[o][r][g] [o][r][g] 0 3\n",
      "['info' 'org' 'org' 'info' 'info'] ['' '' '' '' '']\n",
      "[o][r][g] [o][r] 0 2\n",
      "['info' 'info' 'info' 'info' 'info'] []\n",
      "[o][r][g] [o] 0 1\n",
      "['info' 'info' 'info' 'info' 'info'] []\n",
      "[i][n][f][o] [i][n][f][o] 0 4\n",
      "['info' 'info' 'info' 'info' 'info'] ['' '' '' '' '']\n",
      "[i][n][f][o] [i][n][f] 0 3\n",
      "[] []\n",
      "[i][n][f][o] [i][n] 0 2\n",
      "[] []\n",
      "[i][n][f][o] [i] 0 1\n",
      "[] []\n"
     ]
    }
   ],
   "source": [
    "from regexmodel import RegexModel\n",
    "\n",
    "model = RegexModel.fit(email_addresses)"
   ]
  },
  {
   "cell_type": "markdown",
   "id": "f59f6b94",
   "metadata": {},
   "source": [
    "Let's first see how the good the model is by synthesizing new email addresses:"
   ]
  },
  {
   "cell_type": "code",
   "execution_count": 6,
   "id": "17d658b4",
   "metadata": {},
   "outputs": [
    {
     "data": {
      "text/plain": [
       "['tsfvdcvksqsnawix@vijs.com',\n",
       " 'ukqesyrxv81@omlfdyxn.com',\n",
       " 'rcaagzwrn@yprusofb.com',\n",
       " 'kunldqueuioc@ntzqqumm.com',\n",
       " 'tysnzauilrosjztdia@dasvc.com',\n",
       " 'kvbwrki@lelvjtx.com',\n",
       " 'dwcuycunogzzjzzfn@uamzk.com',\n",
       " 'vkei78@cnnyuhxb.com',\n",
       " 'ujufedozkcwcreqh@rjhcgrcz.com',\n",
       " 'aahouc95@uqdcm.com']"
      ]
     },
     "execution_count": 6,
     "metadata": {},
     "output_type": "execute_result"
    }
   ],
   "source": [
    "[model.draw() for _ in range(10)]"
   ]
  },
  {
   "cell_type": "markdown",
   "id": "a3d9d942",
   "metadata": {},
   "source": [
    "While certainly not perfect, it certainly isn't so bad either, given that we have given the model only positive examples!\n",
    "\n",
    "Now let's look at the serialization of the model:"
   ]
  },
  {
   "cell_type": "code",
   "execution_count": 7,
   "id": "a7821a86",
   "metadata": {},
   "outputs": [
    {
     "data": {
      "text/plain": [
       "[{'regex': '[a-z]{3,18}[0-9]{2,2}[@][a-z]{4,9}[\\\\\\\\.][c][o][m]',\n",
       "  'weights': [1000, 259, 259, 791, 746, 705, 705, 705],\n",
       "  'side_branches_before': [{'i_branch': 0, 'data': {'weight': 466}},\n",
       "   {'i_branch': 2,\n",
       "    'data': {'regex': '[a-z]{4,18}',\n",
       "     'weights': [533],\n",
       "     'side_branches_before': [{'i_branch': 0, 'data': {'weight': 533}}],\n",
       "     'side_branches_after': []}},\n",
       "   {'i_branch': 2, 'data': {'weight': 1}}],\n",
       "  'side_branches_after': [{'i_branch': 0,\n",
       "    'data': {'regex': '[@][a-z]{3,9}[\\\\\\\\-][a-z]{4,9}[\\\\\\\\.][c][o][m]',\n",
       "     'weights': [207, 207, 120, 119, 118, 70, 70, 70],\n",
       "     'side_branches_before': [],\n",
       "     'side_branches_after': [{'i_branch': 1,\n",
       "       'data': {'regex': '[\\\\\\\\.][b][i][z]',\n",
       "        'weights': [86, 26, 26, 26],\n",
       "        'side_branches_before': [],\n",
       "        'side_branches_after': [{'i_branch': 0,\n",
       "          'data': {'regex': '[i][n][f][o]',\n",
       "           'weights': [23, 23, 23, 23],\n",
       "           'side_branches_before': [],\n",
       "           'side_branches_after': [{'i_branch': 3, 'data': {'weight': 23}}]}},\n",
       "         {'i_branch': 0,\n",
       "          'data': {'regex': '[n][e][t]',\n",
       "           'weights': [19, 19, 19],\n",
       "           'side_branches_before': [],\n",
       "           'side_branches_after': [{'i_branch': 2, 'data': {'weight': 19}}]}},\n",
       "         {'i_branch': 0,\n",
       "          'data': {'regex': '[o][r][g]',\n",
       "           'weights': [16, 16, 16],\n",
       "           'side_branches_before': [],\n",
       "           'side_branches_after': [{'i_branch': 2, 'data': {'weight': 16}}]}},\n",
       "         {'i_branch': 0, 'data': {'weight': 2}},\n",
       "         {'i_branch': 3, 'data': {'weight': 26}}]}},\n",
       "      {'i_branch': 1, 'data': {'weight': 1}},\n",
       "      {'i_branch': 2, 'data': {'weight': 1}},\n",
       "      {'i_branch': 3, 'data': {'weight': 1}},\n",
       "      {'i_branch': 4,\n",
       "       'data': {'regex': '[i][n][f][o]',\n",
       "        'weights': [16, 16, 16, 16],\n",
       "        'side_branches_before': [],\n",
       "        'side_branches_after': [{'i_branch': 3, 'data': {'weight': 16}}]}},\n",
       "      {'i_branch': 4,\n",
       "       'data': {'regex': '[n][e][t]',\n",
       "        'weights': [15, 15, 15],\n",
       "        'side_branches_before': [],\n",
       "        'side_branches_after': [{'i_branch': 2, 'data': {'weight': 15}}]}},\n",
       "      {'i_branch': 4,\n",
       "       'data': {'regex': '[o][r][g]',\n",
       "        'weights': [11, 11, 11],\n",
       "        'side_branches_before': [],\n",
       "        'side_branches_after': [{'i_branch': 2, 'data': {'weight': 11}}]}},\n",
       "      {'i_branch': 4,\n",
       "       'data': {'regex': '[b][i][z]',\n",
       "        'weights': [6, 6, 6],\n",
       "        'side_branches_before': [],\n",
       "        'side_branches_after': [{'i_branch': 2, 'data': {'weight': 6}}]}},\n",
       "      {'i_branch': 7, 'data': {'weight': 70}}]}},\n",
       "   {'i_branch': 2, 'data': {'weight': 2}},\n",
       "   {'i_branch': 3,\n",
       "    'data': {'regex': '[\\\\\\\\-][a-z]{4,9}[\\\\\\\\.][c][o][m]',\n",
       "     'weights': [42, 41, 40, 26, 26, 26],\n",
       "     'side_branches_before': [],\n",
       "     'side_branches_after': [{'i_branch': 0, 'data': {'weight': 1}},\n",
       "      {'i_branch': 1, 'data': {'weight': 1}},\n",
       "      {'i_branch': 2,\n",
       "       'data': {'regex': '[n][e][t]',\n",
       "        'weights': [6, 6, 6],\n",
       "        'side_branches_before': [],\n",
       "        'side_branches_after': [{'i_branch': 2, 'data': {'weight': 6}}]}},\n",
       "      {'i_branch': 2,\n",
       "       'data': {'regex': '[b][i][z]',\n",
       "        'weights': [3, 3, 3],\n",
       "        'side_branches_before': [],\n",
       "        'side_branches_after': [{'i_branch': 2, 'data': {'weight': 3}}]}},\n",
       "      {'i_branch': 2,\n",
       "       'data': {'regex': '[o][r][g]',\n",
       "        'weights': [3, 3, 3],\n",
       "        'side_branches_before': [],\n",
       "        'side_branches_after': [{'i_branch': 2, 'data': {'weight': 3}}]}},\n",
       "      {'i_branch': 2, 'data': {'weight': 2}},\n",
       "      {'i_branch': 5, 'data': {'weight': 26}}]}},\n",
       "   {'i_branch': 3, 'data': {'weight': 3}},\n",
       "   {'i_branch': 4,\n",
       "    'data': {'regex': '[n][e][t]',\n",
       "     'weights': [12, 12, 12],\n",
       "     'side_branches_before': [],\n",
       "     'side_branches_after': [{'i_branch': 2, 'data': {'weight': 12}}]}},\n",
       "   {'i_branch': 4,\n",
       "    'data': {'regex': '[b][i][z]',\n",
       "     'weights': [10, 10, 10],\n",
       "     'side_branches_before': [],\n",
       "     'side_branches_after': [{'i_branch': 2, 'data': {'weight': 10}}]}},\n",
       "   {'i_branch': 4,\n",
       "    'data': {'regex': '[o][r][g]',\n",
       "     'weights': [10, 10, 10],\n",
       "     'side_branches_before': [],\n",
       "     'side_branches_after': [{'i_branch': 2, 'data': {'weight': 10}}]}},\n",
       "   {'i_branch': 4,\n",
       "    'data': {'regex': '[i][n][f][o]',\n",
       "     'weights': [9, 9, 9, 9],\n",
       "     'side_branches_before': [],\n",
       "     'side_branches_after': [{'i_branch': 3, 'data': {'weight': 9}}]}},\n",
       "   {'i_branch': 7, 'data': {'weight': 705}}]}]"
      ]
     },
     "execution_count": 7,
     "metadata": {},
     "output_type": "execute_result"
    }
   ],
   "source": [
    "model.serialize()"
   ]
  },
  {
   "cell_type": "code",
   "execution_count": 8,
   "id": "36d52d07",
   "metadata": {},
   "outputs": [
    {
     "name": "stdout",
     "output_type": "stream",
     "text": [
      "philip03@washington.com -1000013.2712598622\n",
      "huntamber@richardson.biz -1000013.2712272695\n",
      "richardsonalexander@murray.com -1000013.2712269897\n",
      "yli@gmail.com -1000013.8905941774\n",
      "amy54@washington.com -1000014.1218832616\n",
      "randall21@strickland.org -1000013.2712285216\n",
      "maria78@ray.com -1000013.272067169\n",
      "dustincole@lam.com -1000013.2712272678\n",
      "michelegarrett@copeland-washington.com -1000013.271227268\n",
      "andersonmaureen@hawkins-wu.info -1000013.271227268\n",
      "turnertravis@lee.com -1000013.271227268\n",
      "timothy24@villa-tran.info -1000013.2712285216\n",
      "kenneth96@cooper-washington.com -1000013.2712285216\n",
      "dylan80@murray-manning.info -1000013.2720750612\n",
      "christopher55@orr.net -1000013.271227268\n",
      "robinsonchristopher@gmail.com -1000013.2712200311\n",
      "mitchellchristopher@gmail.com -1000013.2712200311\n",
      "stacey22@burton-kim.net -1000013.2712598622\n"
     ]
    },
    {
     "data": {
      "text/plain": [
       "{'failed': 18,\n",
       " 'success': 982,\n",
       " 'n_tot_char': 22023,\n",
       " 'n_char_success': 21582,\n",
       " 'n_parameters': 121,\n",
       " 'avg_log_like_per_char': -2.8483489023604314,\n",
       " 'avg_log_like_pc_success': -2.7654002316121136}"
      ]
     },
     "execution_count": 8,
     "metadata": {},
     "output_type": "execute_result"
    }
   ],
   "source": [
    "model.fit_statistics(email_addresses)"
   ]
  },
  {
   "cell_type": "code",
   "execution_count": 9,
   "id": "c322b621",
   "metadata": {},
   "outputs": [],
   "source": [
    "import networkx as nx"
   ]
  },
  {
   "cell_type": "code",
   "execution_count": 10,
   "id": "2ea5f4f6",
   "metadata": {},
   "outputs": [],
   "source": [
    "from regexmodel.util import Dir\n",
    "\n",
    "def create_network(G, link, labels, node_start):\n",
    "    cur_i_label = len(labels)\n",
    "    if link.destination is None:\n",
    "        G.add_node(cur_i_label, label=\"X\")\n",
    "        labels.append(\"X\")\n",
    "        if link.direction == Dir.LEFT:\n",
    "            G.add_edge(cur_i_label, node_start, group=link.direction.value)\n",
    "        else:\n",
    "            G.add_edge(node_start, cur_i_label, group=link.direction.value)\n",
    "        return\n",
    "    \n",
    "    cur_node = link.destination\n",
    "    if cur_node.regex is None:\n",
    "        cur_label = \"X\"\n",
    "    else:\n",
    "        cur_label = cur_node.regex.regex\n",
    "    G.add_node(cur_i_label, label=cur_label)\n",
    "    labels.append(cur_label)\n",
    "    if link.direction == Dir.LEFT:\n",
    "        G.add_edge(cur_i_label, node_start, group=link.direction.value)\n",
    "    else:\n",
    "        G.add_edge(node_start, cur_i_label, group=link.direction.value)\n",
    "    \n",
    "    for cur_link in cur_node.all_links:\n",
    "        create_network(G, cur_link, labels, cur_i_label)\n",
    "    "
   ]
  },
  {
   "cell_type": "code",
   "execution_count": 17,
   "id": "d1e762ea",
   "metadata": {},
   "outputs": [],
   "source": [
    "import numpy as np\n",
    "G = nx.DiGraph()\n",
    "labels = [\"s\"]\n",
    "G.add_node(0, label=\"start\", group=2)\n",
    "for link in model.root_links:\n",
    "    create_network(G, link, labels, 0)"
   ]
  },
  {
   "cell_type": "code",
   "execution_count": 18,
   "id": "42a1cc52",
   "metadata": {
    "scrolled": false
   },
   "outputs": [
    {
     "name": "stdout",
     "output_type": "stream",
     "text": [
      "Warning: When  cdn_resources is 'local' jupyter notebook has issues displaying graphics on chrome/safari. Use cdn_resources='in_line' or cdn_resources='remote' if you have issues viewing graphics in a notebook.\n",
      "regex.html\n"
     ]
    },
    {
     "data": {
      "text/html": [
       "\n",
       "        <iframe\n",
       "            width=\"1000px\"\n",
       "            height=\"1000px\"\n",
       "            src=\"regex.html\"\n",
       "            frameborder=\"0\"\n",
       "            allowfullscreen\n",
       "            \n",
       "        ></iframe>\n",
       "        "
      ],
      "text/plain": [
       "<IPython.lib.display.IFrame at 0x7fa25bcbdc90>"
      ]
     },
     "execution_count": 18,
     "metadata": {},
     "output_type": "execute_result"
    }
   ],
   "source": [
    "from pyvis.network import Network\n",
    "\n",
    "net = Network('1000px', '1000px', notebook=True, directed=True)\n",
    "net.from_nx(G)\n",
    "net.show(\"regex.html\")"
   ]
  },
  {
   "cell_type": "code",
   "execution_count": null,
   "id": "da034fef",
   "metadata": {},
   "outputs": [],
   "source": [
    "Dir.RIGHT.value"
   ]
  },
  {
   "cell_type": "code",
   "execution_count": null,
   "id": "8d432001",
   "metadata": {},
   "outputs": [],
   "source": []
  }
 ],
 "metadata": {
  "kernelspec": {
   "display_name": "Python 3 (ipykernel)",
   "language": "python",
   "name": "python3"
  },
  "language_info": {
   "codemirror_mode": {
    "name": "ipython",
    "version": 3
   },
   "file_extension": ".py",
   "mimetype": "text/x-python",
   "name": "python",
   "nbconvert_exporter": "python",
   "pygments_lexer": "ipython3",
   "version": "3.11.1"
  }
 },
 "nbformat": 4,
 "nbformat_minor": 5
}
