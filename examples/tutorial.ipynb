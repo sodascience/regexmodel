{
 "cells": [
  {
   "cell_type": "markdown",
   "id": "a96173cf",
   "metadata": {},
   "source": [
    "## Tutorial on regexmodel"
   ]
  },
  {
   "cell_type": "markdown",
   "id": "d52e532f",
   "metadata": {},
   "source": [
    "#### Setup and installation"
   ]
  },
  {
   "cell_type": "markdown",
   "id": "5bcc3f78",
   "metadata": {},
   "source": [
    "If you haven't installed `regexmodel` yet, do so now:"
   ]
  },
  {
   "cell_type": "code",
   "execution_count": 1,
   "id": "881dd17b",
   "metadata": {},
   "outputs": [],
   "source": [
    "# %pip install git+https://github.com/sodascience/regexmodel.git"
   ]
  },
  {
   "cell_type": "markdown",
   "id": "904664ae",
   "metadata": {},
   "source": [
    "For this tutorial we will need three packages: regexmodel, faker and matplotlib. Install the two last packages now if they are not install already with:"
   ]
  },
  {
   "cell_type": "code",
   "execution_count": 2,
   "id": "0c66d8b9",
   "metadata": {},
   "outputs": [],
   "source": [
    "# %pip install faker matplotlib"
   ]
  },
  {
   "cell_type": "markdown",
   "id": "f38a7388",
   "metadata": {},
   "source": [
    "Import the packages that were installed:"
   ]
  },
  {
   "cell_type": "code",
   "execution_count": 4,
   "id": "cbd34eef",
   "metadata": {},
   "outputs": [],
   "source": [
    "from matplotlib import pyplot as plt"
   ]
  },
  {
   "cell_type": "markdown",
   "id": "b748a354",
   "metadata": {},
   "source": [
    "Normally we would already have data that we want to model and synthesize, but for this tutorial we will use the faker package to generate that data for us. We will use fake email addresses."
   ]
  },
  {
   "cell_type": "code",
   "execution_count": 6,
   "id": "85dbeb0c",
   "metadata": {},
   "outputs": [
    {
     "data": {
      "text/plain": [
       "['zoconnor@example.com',\n",
       " 'sarah49@example.com',\n",
       " 'nathansawyer@example.com',\n",
       " 'cheryllopez@example.net',\n",
       " 'schmidtjill@example.net',\n",
       " 'eddieball@example.org',\n",
       " 'marc75@example.org',\n",
       " 'qsmith@example.org',\n",
       " 'justindelgado@example.org',\n",
       " 'jillhall@example.net']"
      ]
     },
     "execution_count": 6,
     "metadata": {},
     "output_type": "execute_result"
    }
   ],
   "source": [
    "from faker import Faker\n",
    "\n",
    "fake = Faker(\"en\")\n",
    "Faker.seed(12345)\n",
    "email_addresses = [fake.email() for _ in range(300)]\n",
    "email_addresses[:10]"
   ]
  },
  {
   "cell_type": "markdown",
   "id": "3bf81a26",
   "metadata": {},
   "source": [
    "#### Modeling the structured strings\n",
    "\n",
    "Now we will use the regexmodel package to model the data:"
   ]
  },
  {
   "cell_type": "code",
   "execution_count": null,
   "id": "41c46269",
   "metadata": {},
   "outputs": [],
   "source": [
    "from regexmodel import RegexModel\n",
    "\n",
    "model = RegexModel()"
   ]
  }
 ],
 "metadata": {
  "kernelspec": {
   "display_name": "Python 3 (ipykernel)",
   "language": "python",
   "name": "python3"
  },
  "language_info": {
   "codemirror_mode": {
    "name": "ipython",
    "version": 3
   },
   "file_extension": ".py",
   "mimetype": "text/x-python",
   "name": "python",
   "nbconvert_exporter": "python",
   "pygments_lexer": "ipython3",
   "version": "3.11.1"
  }
 },
 "nbformat": 4,
 "nbformat_minor": 5
}
