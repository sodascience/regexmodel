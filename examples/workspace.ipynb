{
 "cells": [
  {
   "cell_type": "markdown",
   "id": "a96173cf",
   "metadata": {},
   "source": [
    "# Tutorial on regexmodel"
   ]
  },
  {
   "cell_type": "markdown",
   "id": "d52e532f",
   "metadata": {},
   "source": [
    "## Setup and installation"
   ]
  },
  {
   "cell_type": "markdown",
   "id": "5bcc3f78",
   "metadata": {},
   "source": [
    "If you haven't installed `regexmodel` yet, including the optional dependencies, do so now:"
   ]
  },
  {
   "cell_type": "code",
   "execution_count": 1,
   "id": "881dd17b",
   "metadata": {},
   "outputs": [],
   "source": [
    "# %pip install git+https://github.com/sodascience/regexmodel.git[tutorial]"
   ]
  },
  {
   "cell_type": "markdown",
   "id": "b748a354",
   "metadata": {},
   "source": [
    "Normally we would already have data that we want to model and synthesize, but for this tutorial we will use the faker package to generate that data for us. We will use fake email addresses."
   ]
  },
  {
   "cell_type": "code",
   "execution_count": 2,
   "id": "85dbeb0c",
   "metadata": {},
   "outputs": [],
   "source": [
    "from faker import Faker\n",
    "from regexmodel.util import Dir\n",
    "from regexmodel.datastructure import BaseRegex\n",
    "from regexmodel.model import RegexModel\n",
    "from regexmodel.datastructure import RegexNode, OrNode, Edge\n",
    "import polars as pl\n",
    "\n",
    "fake = Faker(\"nl\")\n",
    "Faker.seed(12345)\n",
    "email_addresses = pl.Series([fake.mime_type() for _ in range(40)])\n",
    "series = email_addresses"
   ]
  },
  {
   "cell_type": "code",
   "execution_count": 3,
   "id": "d79b1dd8",
   "metadata": {},
   "outputs": [
    {
     "name": "stdout",
     "output_type": "stream",
     "text": [
      "{'failed': 9, 'success': 31, 'n_tot_char': 580, 'n_char_success': 419, 'n_parameters': 11, 'avg_log_like_per_char': -4.29603283252874, 'avg_log_like_pc_success': -3.29248315739987}\n",
      "[31, 31, 31, [[27], [4, 4, 4, 4, 4]], 0] [mata-z]{4,11}[/][a-z]{2,10}(|[\\+][x][m][l])\n"
     ]
    }
   ],
   "source": [
    "model = RegexModel.fit(email_addresses, count_thres=3)\n",
    "print(model.fit_statistics(email_addresses))\n",
    "print(model.regex_edge.count_list, model.regex)"
   ]
  },
  {
   "cell_type": "code",
   "execution_count": 4,
   "id": "192057c3",
   "metadata": {},
   "outputs": [
    {
     "name": "stdout",
     "output_type": "stream",
     "text": [
      "Regex <[mata-z]{4,11}> [31, 31, 31, [[27], [4, 4, 4, 4, 4]], 0]\n",
      "Regex <[/]> [31, 31, [[27], [4, 4, 4, 4, 4]], 0]\n",
      "Regex <[a-z]{2,10}> [31, [[27], [4, 4, 4, 4, 4]], 0]\n",
      "OrNode <(|[\\+][x][m][l])> -> <> [[[27], [4, 4, 4, 4, 4]], 0]\n",
      "Regex <[\\+]> [4, 4, 4, 4, 4]\n",
      "Regex <[x]> [4, 4, 4, 4]\n",
      "Regex <[m]> [4, 4, 4]\n",
      "Regex <[l]> [4, 4]\n"
     ]
    },
    {
     "data": {
      "text/plain": [
       "('[mata-z]{4,11}[/][a-z]{2,10}(|[\\\\+][x][m][l])',\n",
       " [31, 31, 31, [[27], [4, 4, 4, 4, 4]], 0])"
      ]
     },
     "execution_count": 4,
     "metadata": {},
     "output_type": "execute_result"
    }
   ],
   "source": [
    "model.serialize()"
   ]
  },
  {
   "cell_type": "code",
   "execution_count": 5,
   "id": "d161c35c",
   "metadata": {},
   "outputs": [
    {
     "data": {
      "text/plain": [
       "(OrRegex[ab\\]cA-Za-z0-9], '')"
      ]
     },
     "execution_count": 5,
     "metadata": {},
     "output_type": "execute_result"
    }
   ],
   "source": [
    "from regexmodel.regexclass import OrRegex, LiteralRegex\n",
    "\n",
    "OrRegex.from_string(r\"[ab\\]cA-Za-z0-9]\")\n",
    "# LiteralRegex.from_string(r\"\\]\")"
   ]
  },
  {
   "cell_type": "code",
   "execution_count": 6,
   "id": "bb790f28",
   "metadata": {},
   "outputs": [
    {
     "name": "stdout",
     "output_type": "stream",
     "text": [
      "<re.Match object; span=(0, 2), match='\\\\]'>\n"
     ]
    },
    {
     "data": {
      "text/plain": [
       "'ab\\\\]cA-Za-z0-9'"
      ]
     },
     "execution_count": 6,
     "metadata": {},
     "output_type": "execute_result"
    }
   ],
   "source": [
    "import re\n",
    "from regexmodel.regexclass import LowerRegex, UpperRegex, DigitRegex, LiteralRegex, ALL_REGEX_CLASS\n",
    "\n",
    "print(re.match(r\"\\\\]\", r\"\\]\"))\n",
    "\n",
    "rex = r\"^\\[([\\S\\s]*?[^\\\\])\\]\"\n",
    "options = re.search(rex, r\"[ab\\]cA-Za-z0-9]\").group(1)\n",
    "\n",
    "options"
   ]
  },
  {
   "cell_type": "code",
   "execution_count": 7,
   "id": "e532492a",
   "metadata": {},
   "outputs": [
    {
     "data": {
      "text/plain": [
       "['opxc/vhhdtoi',\n",
       " 'znfz/dsdrcb',\n",
       " 'abrldtobtap/bum',\n",
       " 'togqorooqbe/zocqarvxj+xml',\n",
       " 'pmrv/wudes',\n",
       " 'igtcrzefkj/qorldxdpyc',\n",
       " 'lpxrzatmup/pk+xml',\n",
       " 'mfamqedddt/tstwrhshdf',\n",
       " 'ahfk/sszeeasu',\n",
       " 'idowlipjgmn/zqp']"
      ]
     },
     "execution_count": 7,
     "metadata": {},
     "output_type": "execute_result"
    }
   ],
   "source": [
    "[model.draw() for _ in range(10)]"
   ]
  },
  {
   "cell_type": "code",
   "execution_count": 8,
   "id": "2628bb0b",
   "metadata": {},
   "outputs": [],
   "source": [
    "import json\n",
    "with open(\"../scripts/data/benchmark.json\") as handle:\n",
    "    bench_data = json.load(handle)\n",
    "with open(\"../scripts/data2/benchmark.json\") as handle:\n",
    "    bench_data_new = json.load(handle)"
   ]
  },
  {
   "cell_type": "code",
   "execution_count": 9,
   "id": "bd234099",
   "metadata": {},
   "outputs": [],
   "source": [
    "import numpy as np\n",
    "from matplotlib import pyplot as plt\n",
    "\n",
    "def _get_success_rate(fake_type, bench_data):\n",
    "    n_param = []\n",
    "    success = []\n",
    "    fails = []\n",
    "    # for var_data in bench_data.values():\n",
    "    for data in bench_data[fake_type].values():\n",
    "        n_param.extend(x[\"n_parameters\"] for x in data)\n",
    "        success.extend(x[\"success\"] for x in data)\n",
    "        fails.extend(x[\"failed\"] for x in data)\n",
    "\n",
    "    success_rate = np.array(success)/(np.array(fails)+np.array(success))\n",
    "    return np.array(n_param), success_rate\n",
    "\n",
    "def plot_succes_rate(fake_type):\n",
    "    plt.scatter(*_get_success_rate(fake_type, bench_data), label=\"old\")\n",
    "    plt.scatter(*_get_success_rate(fake_type, bench_data_new), label=\"new\")\n",
    "    plt.legend()\n",
    "    plt.show()"
   ]
  },
  {
   "cell_type": "code",
   "execution_count": 10,
   "id": "21ec46b9",
   "metadata": {},
   "outputs": [
    {
     "data": {
      "image/png": "[encoded data removed]",
      "text/plain": [
       "<Figure size 640x480 with 1 Axes>"
      ]
     },
     "metadata": {},
     "output_type": "display_data"
    }
   ],
   "source": [
    "plot_succes_rate(\"address\")"
   ]
  },
  {
   "cell_type": "code",
   "execution_count": 11,
   "id": "cda58230",
   "metadata": {},
   "outputs": [
    {
     "name": "stdout",
     "output_type": "stream",
     "text": [
      "text/cmd [('d', -24.400192853485734), ('', -27.658289391507218)]\n",
      "model/x3d+xml []\n",
      "multipart/alternative [('ternative', -41.23667200341811), ('ernative', -44.49476854143959), ('rnative', -47.752865079461074), ('native', -51.01096161748255), ('ative', -54.269058155504034), ('tive', -57.52715469352552), ('ive', -60.785251231546994), ('ve', -64.04334776956848), ('e', -67.30144430758997)]\n",
      "model/x3d+binary []\n",
      "text/csv [('v', -24.400192853485734), ('', -27.658289391507218)]\n",
      "multipart/mixed [('xed', -41.23667200341811), ('ed', -44.49476854143959), ('d', -47.752865079461074), ('', -51.01096161748255)]\n",
      "text/javascript [('vascript', -24.400192853485734), ('ascript', -27.658289391507218), ('script', -30.916385929528698), ('cript', -34.17448246755018), ('ript', -37.43257900557166), ('ipt', -40.690675543593144), ('pt', -43.94877208161462), ('t', -47.20686861963611), ('', -50.464965157657595)]\n",
      "image/svg+xml [('g+xml', -27.76748868347221), ('+xml', -31.025585221493692), ('', -32.93512772637813)]\n",
      "image/pjpeg [('peg', -27.76748868347221), ('eg', -31.025585221493692), ('g', -34.283681759515176), ('', -37.54177829753665)]\n",
      "audio/webm [('bm', -27.76748868347221), ('m', -31.025585221493692), ('', -34.283681759515176)]\n"
     ]
    }
   ],
   "source": [
    "for url in email_addresses[:10]:\n",
    "    print(url, list(model.regex_edge.log_likelihood(url)))"
   ]
  },
  {
   "cell_type": "code",
   "execution_count": 12,
   "id": "cfbcecd7",
   "metadata": {},
   "outputs": [],
   "source": [
    "\n",
    "def create_regex_from_list(regex_data):\n",
    "    if isinstance(regex_data, BaseRegex):\n",
    "        return regex_data.regex\n",
    "    if isinstance(regex_data, tuple):\n",
    "        optional_regex = [create_regex_from_list(rx) for rx in regex_data]\n",
    "        return r\"(\" + r\"|\".join(optional_regex) + \")\"\n",
    "    return \"\".join(create_regex_from_list(rx) for rx in regex_data)\n",
    "\n"
   ]
  },
  {
   "cell_type": "markdown",
   "id": "3bf81a26",
   "metadata": {},
   "source": [
    "## Modeling the structured strings\n",
    "\n",
    "Now we will use the regexmodel package to model the data:"
   ]
  },
  {
   "cell_type": "code",
   "execution_count": 13,
   "id": "4f49e44c",
   "metadata": {},
   "outputs": [],
   "source": [
    "    # while cur_series.drop_nulls().len() > count_thres:\n",
    "        \n",
    "    # if result[\"score\"] < count_thres/len(series):\n",
    "    #     return [], []\n",
    "    # regex_list, count_list = fit_main_branch(result[\"new_series\"], count_thres=count_thres,\n",
    "    #                                          direction=direction)\n",
    "    # n_main_line = result[\"new_series\"].drop_nulls().len()\n",
    "    # n_alt_line = result[\"alt_series\"].drop_nulls().len()\n",
    "    # regex_list = [result[\"regex\"]] + regex_list\n",
    "    # count_list = [n_main_line] + count_list\n",
    "\n",
    "    # if len(result[\"alt_series\"].drop_nulls()) > count_thres and optionals:\n",
    "\n",
    "    #     regex_main = \"\".join(rx.regex for rx in regex_list)\n",
    "    #     res = result[\"alt_series\"].str.extract(r\"(^[\\S\\s]*?)\" + regex_main + r\"$\")\n",
    "    #     alt_regex_list, alt_count_list = fit_main_branch(res, count_thres, direction)\n",
    "    #     if len(alt_regex_list) > 0:\n",
    "    #         regex_list = [(alt_regex_list, [])] + regex_list\n",
    "    #         count_list = [(alt_count_list[-1], n_main_line)] + count_list\n",
    "\n",
    "    # return return_links\n",
    "    # # return regex_list, count_list\n"
   ]
  },
  {
   "cell_type": "code",
   "execution_count": 14,
   "id": "41c46269",
   "metadata": {},
   "outputs": [],
   "source": [
    "from regexmodel import RegexModel\n",
    "\n",
    "model = RegexModel.fit(email_addresses)"
   ]
  },
  {
   "cell_type": "markdown",
   "id": "f59f6b94",
   "metadata": {},
   "source": [
    "Let's first see how the good the model is by synthesizing new email addresses:"
   ]
  },
  {
   "cell_type": "code",
   "execution_count": 15,
   "id": "17d658b4",
   "metadata": {},
   "outputs": [
    {
     "data": {
      "text/plain": [
       "['azjbxytt/cpgsvpgyb',\n",
       " 'helnkon/zbwiaqf',\n",
       " 'ctsrgce/ipdl',\n",
       " 'ikfmm/wzuj',\n",
       " 'pmlmhwdu/nnshachm',\n",
       " 'wsixmqksdkt/xhruih',\n",
       " 'latbgmmmy/dbzs+xml',\n",
       " 'peiyr/cdmptydd',\n",
       " 'ytxf/qr',\n",
       " 'imbamhxjjzd/nb+xml']"
      ]
     },
     "execution_count": 15,
     "metadata": {},
     "output_type": "execute_result"
    }
   ],
   "source": [
    "[model.draw() for _ in range(10)]"
   ]
  },
  {
   "cell_type": "markdown",
   "id": "a3d9d942",
   "metadata": {},
   "source": [
    "While certainly not perfect, it certainly isn't so bad either, given that we have given the model only positive examples!\n",
    "\n",
    "Now let's look at the serialization of the model:"
   ]
  },
  {
   "cell_type": "code",
   "execution_count": 16,
   "id": "a7821a86",
   "metadata": {
    "scrolled": true
   },
   "outputs": [
    {
     "data": {
      "text/plain": [
       "{'regex': '[mata-z]{4,11}[/][a-z]{2,10}(|[\\\\+][x][m][l])',\n",
       " 'counts': [31, 31, 31, [[27], [4, 4, 4, 4, 4]], 0]}"
      ]
     },
     "execution_count": 16,
     "metadata": {},
     "output_type": "execute_result"
    }
   ],
   "source": [
    "model.serialize()"
   ]
  },
  {
   "cell_type": "markdown",
   "id": "87953f7f",
   "metadata": {},
   "source": [
    "The serialization might seem overwhelming at first, but the first regex (`[a-z]{3,18}[0-9]{2,2}[@][a-z]{4,9}[\\\\\\\\.][c][o][m]`) is usually the most important one. We call this the main branch. On this main branch, there will be side branches, for example for \".info\" and \".biz\" email addresses."
   ]
  },
  {
   "cell_type": "markdown",
   "id": "033eecb4",
   "metadata": {},
   "source": [
    "## Modeling performance\n",
    "\n",
    "There are also some modeling statistics that can be computed. Note that computing these can take a while depending on your computer."
   ]
  },
  {
   "cell_type": "code",
   "execution_count": 17,
   "id": "36d52d07",
   "metadata": {},
   "outputs": [
    {
     "data": {
      "text/plain": [
       "{'failed': 9,\n",
       " 'success': 31,\n",
       " 'n_tot_char': 580,\n",
       " 'n_char_success': 419,\n",
       " 'n_parameters': 11,\n",
       " 'avg_log_like_per_char': -4.29603283252874,\n",
       " 'avg_log_like_pc_success': -3.29248315739987}"
      ]
     },
     "execution_count": 17,
     "metadata": {},
     "output_type": "execute_result"
    }
   ],
   "source": [
    "model.fit_statistics(email_addresses)"
   ]
  },
  {
   "cell_type": "markdown",
   "id": "6f8ce227",
   "metadata": {},
   "source": [
    "What the `fit_statistics` method does is to retrace back whether an email address that is given to it (e.g. johndoe@example.com) has a non-zero probability to be generated by the regex model. As we can see above, there were 18 email addresses in the list that have a probability of 0 to be generated by the model, while the overwhelming majority (982) can be generated with the fitted model.\n",
    "\n",
    "The value `n_parameters` gives the number of nodes in the model, and is thus an indicator of the complexity of the model. This is also correlated with the fit taking longer. We can influence this parameter during fitting by setting the `count_thres` parameter. If we set that threshold higher, we generally have a lower number of parameters and better performance.\n",
    "\n",
    "The statistic `avg_log_like_per_char` (average log-likelihood per character) shows how probable a value is on average per character. To understand this better, let's take a more simple example, where the regex is simply `\\d{2,2}`. For this regex, the log likelihood is simply log(1/10\\*1/10) = -2\\*log(10). Since all values have 2 characters, the average log-likelihood per character is -log(10) ~= 2.30. For failed values (values that cannot be generated by the model), we use a penalty score of -log(1000) per character.\n",
    "\n",
    "Ideally we want to have the lowest `n_parameters` (simplest model) with the highest `success` and the highest log-likelihood."
   ]
  },
  {
   "cell_type": "markdown",
   "id": "7e9fd48e",
   "metadata": {},
   "source": [
    "## Visualization"
   ]
  },
  {
   "cell_type": "markdown",
   "id": "77f1fbae",
   "metadata": {},
   "source": [
    "To more clearly understand how the graph looks like, we can plot the regex model using the `regex_model_to_pyvis` function. To retrace the paths that can be taken, first find the start node and find the main branch.\n",
    "\n",
    "Note: PyVis doesnt work interactively in VSCode/Code OSS."
   ]
  },
  {
   "cell_type": "code",
   "execution_count": 18,
   "id": "da034fef",
   "metadata": {},
   "outputs": [
    {
     "ename": "AttributeError",
     "evalue": "'RegexModel' object has no attribute 'root_links'",
     "output_type": "error",
     "traceback": [
      "\u001b[0;31m---------------------------------------------------------------------------\u001b[0m",
      "\u001b[0;31mAttributeError\u001b[0m                            Traceback (most recent call last)",
      "Cell \u001b[0;32mIn[18], line 3\u001b[0m\n\u001b[1;32m      1\u001b[0m \u001b[39mfrom\u001b[39;00m \u001b[39mregexmodel\u001b[39;00m\u001b[39m.\u001b[39;00m\u001b[39mvisualization\u001b[39;00m \u001b[39mimport\u001b[39;00m regex_model_to_pyvis\n\u001b[0;32m----> 3\u001b[0m net \u001b[39m=\u001b[39m regex_model_to_pyvis(model)\n\u001b[1;32m      4\u001b[0m net\u001b[39m.\u001b[39mshow(\u001b[39m\"\u001b[39m\u001b[39mregex.html\u001b[39m\u001b[39m\"\u001b[39m, notebook\u001b[39m=\u001b[39m\u001b[39mTrue\u001b[39;00m)\n",
      "File \u001b[0;32m~/Documents/shared_work/synthetic/regexmodel/regexmodel/visualization.py:64\u001b[0m, in \u001b[0;36mregex_model_to_pyvis\u001b[0;34m(model, px_x, px_y, notebook)\u001b[0m\n\u001b[1;32m     62\u001b[0m labels \u001b[39m=\u001b[39m [\u001b[39m\"\u001b[39m\u001b[39ms\u001b[39m\u001b[39m\"\u001b[39m]\n\u001b[1;32m     63\u001b[0m graph\u001b[39m.\u001b[39madd_node(\u001b[39m0\u001b[39m, label\u001b[39m=\u001b[39m\u001b[39m\"\u001b[39m\u001b[39mstart\u001b[39m\u001b[39m\"\u001b[39m, group\u001b[39m=\u001b[39m\u001b[39m2\u001b[39m)\n\u001b[0;32m---> 64\u001b[0m \u001b[39mfor\u001b[39;00m link \u001b[39min\u001b[39;00m model\u001b[39m.\u001b[39;49mroot_links:\n\u001b[1;32m     65\u001b[0m     _create_network(graph, link, labels, \u001b[39m0\u001b[39m)\n\u001b[1;32m     67\u001b[0m net \u001b[39m=\u001b[39m Network(px_x, px_y, notebook\u001b[39m=\u001b[39mnotebook, directed\u001b[39m=\u001b[39m\u001b[39mTrue\u001b[39;00m)\n",
      "\u001b[0;31mAttributeError\u001b[0m: 'RegexModel' object has no attribute 'root_links'"
     ]
    }
   ],
   "source": [
    "from regexmodel.visualization import regex_model_to_pyvis\n",
    "\n",
    "net = regex_model_to_pyvis(model)\n",
    "net.show(\"regex.html\", notebook=True)"
   ]
  }
 ],
 "metadata": {
  "kernelspec": {
   "display_name": "Python 3 (ipykernel)",
   "language": "python",
   "name": "python3"
  },
  "language_info": {
   "codemirror_mode": {
    "name": "ipython",
    "version": 3
   },
   "file_extension": ".py",
   "mimetype": "text/x-python",
   "name": "python",
   "nbconvert_exporter": "python",
   "pygments_lexer": "ipython3",
   "version": "3.11.1"
  }
 },
 "nbformat": 4,
 "nbformat_minor": 5
}
