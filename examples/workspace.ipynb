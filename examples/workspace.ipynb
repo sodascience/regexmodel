{
 "cells": [
  {
   "cell_type": "markdown",
   "id": "a96173cf",
   "metadata": {},
   "source": [
    "# Tutorial on regexmodel"
   ]
  },
  {
   "cell_type": "markdown",
   "id": "d52e532f",
   "metadata": {},
   "source": [
    "## Setup and installation"
   ]
  },
  {
   "cell_type": "markdown",
   "id": "5bcc3f78",
   "metadata": {},
   "source": [
    "If you haven't installed `regexmodel` yet, including the optional dependencies, do so now:"
   ]
  },
  {
   "cell_type": "code",
   "execution_count": 1,
   "id": "881dd17b",
   "metadata": {},
   "outputs": [],
   "source": [
    "# %pip install git+https://github.com/sodascience/regexmodel.git[tutorial]"
   ]
  },
  {
   "cell_type": "markdown",
   "id": "b748a354",
   "metadata": {},
   "source": [
    "Normally we would already have data that we want to model and synthesize, but for this tutorial we will use the faker package to generate that data for us. We will use fake email addresses."
   ]
  },
  {
   "cell_type": "code",
   "execution_count": 2,
   "id": "85dbeb0c",
   "metadata": {},
   "outputs": [],
   "source": [
    "from faker import Faker\n",
    "from regexmodel.util import Dir\n",
    "from regexmodel.datastructure import BaseRegex\n",
    "from regexmodel.model import fit_best_regex_class\n",
    "from regexmodel.data2 import RegexNode, OrNode, Edge\n",
    "import polars as pl\n",
    "\n",
    "fake = Faker(\"en\")\n",
    "Faker.seed(12345)\n",
    "email_addresses = pl.Series([fake.email() for _ in range(1000)])"
   ]
  },
  {
   "cell_type": "code",
   "execution_count": 3,
   "id": "d79b1dd8",
   "metadata": {},
   "outputs": [
    {
     "name": "stdout",
     "output_type": "stream",
     "text": [
      "XXx [a-z]{4,17}(|[0-9]{2,2})[@][e][x][a][m][p][l][e][\\.][c][o][m]\n",
      "335\n"
     ]
    },
    {
     "ename": "AssertionError",
     "evalue": "",
     "output_type": "error",
     "traceback": [
      "\u001b[0;31m---------------------------------------------------------------------------\u001b[0m",
      "\u001b[0;31mAssertionError\u001b[0m                            Traceback (most recent call last)",
      "Cell \u001b[0;32mIn[3], line 77\u001b[0m\n\u001b[1;32m     75\u001b[0m \u001b[39mprint\u001b[39m(\u001b[39m\"\u001b[39m\u001b[39mXXx\u001b[39m\u001b[39m\"\u001b[39m, main_edge\u001b[39m.\u001b[39mregex)\n\u001b[1;32m     76\u001b[0m \u001b[39mprint\u001b[39m(email_addresses\u001b[39m.\u001b[39mstr\u001b[39m.\u001b[39mextract(main_edge\u001b[39m.\u001b[39mregex, group_index\u001b[39m=\u001b[39m\u001b[39m0\u001b[39m)\u001b[39m.\u001b[39mdrop_nulls()\u001b[39m.\u001b[39mlen())\n\u001b[0;32m---> 77\u001b[0m \u001b[39massert\u001b[39;00m \u001b[39mFalse\u001b[39;00m\n\u001b[1;32m     78\u001b[0m \u001b[39m# full_regex = create_regex_from_list(regex_list)\u001b[39;00m\n",
      "\u001b[0;31mAssertionError\u001b[0m: "
     ]
    }
   ],
   "source": [
    "def _preview(series, size=3):\n",
    "    return series.drop_nulls()[:size].to_numpy()\n",
    "\n",
    "def _simplify_edge(edge):\n",
    "    node = edge.destination\n",
    "    if node is None:\n",
    "        return edge\n",
    "    if len(node.edges) == 1:\n",
    "        return node.edges[0]\n",
    "    return edge\n",
    "\n",
    "def fit_main_branch(series: pl.Series,\n",
    "                    count_thres: float,\n",
    "                    direction=Dir.RIGHT,\n",
    "                    optionals=True) -> list[BaseRegex]:\n",
    "\n",
    "    # Use the returnnode/edge for returning\n",
    "    return_node = OrNode([], Edge(None, 0))\n",
    "    return_edge = Edge(return_node)\n",
    "\n",
    "    # Add an END edge\n",
    "    n_end_links = (series == \"\").sum()\n",
    "    if n_end_links > count_thres:\n",
    "        return_node.add_edge(Edge(None, n_end_links))\n",
    "    cur_series = series.set(series == \"\", None)  # type: ignore\n",
    "    result = fit_best_regex_class(series, count_thres/len(series), direction=direction)\n",
    "\n",
    "    # If it fails the threshold, stop the search.\n",
    "    if result[\"score\"] < count_thres/len(series):\n",
    "        return _simplify_edge(return_edge)\n",
    "\n",
    "    new_edge = fit_main_branch(\n",
    "        result[\"new_series\"], count_thres=count_thres,\n",
    "        direction=direction)\n",
    "\n",
    "    if new_edge.count == 0:\n",
    "        return _simplify_edge(return_edge)\n",
    "\n",
    "    new_node = RegexNode(result[\"regex\"], new_edge)\n",
    "    main_edge = Edge(new_node, new_edge.count)\n",
    "    cur_or_node = OrNode([Edge(None, new_edge.count)], main_edge)\n",
    "\n",
    "    alt_series = result[\"alt_series\"]\n",
    "    if alt_series.drop_nulls().len() > count_thres:\n",
    "        opt_series = alt_series.str.extract(r\"(^[\\S\\s]*?)\" + main_edge.regex + r\"$\")\n",
    "        alt_edge = fit_main_branch(opt_series, count_thres, direction)\n",
    "        if alt_edge.count > 0:\n",
    "            cur_or_node.add_edge(alt_edge)\n",
    "\n",
    "    if len(cur_or_node.edges) == 1:\n",
    "        return_node.add_edge(main_edge)\n",
    "    else:\n",
    "        return_node.add_edge(Edge(cur_or_node))\n",
    "\n",
    "    return _simplify_edge(return_edge)\n",
    "        # print(return_node)\n",
    "        # return Edge(return_node)\n",
    "    # print(\"hi\")\n",
    "    # return_node.add_edge(Edge(cur_or_node))\n",
    "    # return Edge(cur_or_node)\n",
    "\n",
    "\n",
    "\n",
    "main_edge = fit_main_branch(email_addresses, 10)\n",
    "# main_edge.regex\n",
    "print(\"XXx\", main_edge.regex)\n",
    "print(email_addresses.str.extract(main_edge.regex, group_index=0).drop_nulls().len())\n",
    "assert False\n",
    "# full_regex = create_regex_from_list(regex_list)\n"
   ]
  },
  {
   "cell_type": "code",
   "execution_count": null,
   "id": "cfbcecd7",
   "metadata": {},
   "outputs": [],
   "source": [
    "\n",
    "def create_regex_from_list(regex_data):\n",
    "    if isinstance(regex_data, BaseRegex):\n",
    "        return regex_data.regex\n",
    "    if isinstance(regex_data, tuple):\n",
    "        optional_regex = [create_regex_from_list(rx) for rx in regex_data]\n",
    "        return r\"(\" + r\"|\".join(optional_regex) + \")\"\n",
    "    return \"\".join(create_regex_from_list(rx) for rx in regex_data)\n",
    "\n"
   ]
  },
  {
   "cell_type": "markdown",
   "id": "3bf81a26",
   "metadata": {},
   "source": [
    "## Modeling the structured strings\n",
    "\n",
    "Now we will use the regexmodel package to model the data:"
   ]
  },
  {
   "cell_type": "code",
   "execution_count": null,
   "id": "4f49e44c",
   "metadata": {},
   "outputs": [],
   "source": [
    "    # while cur_series.drop_nulls().len() > count_thres:\n",
    "        \n",
    "    # if result[\"score\"] < count_thres/len(series):\n",
    "    #     return [], []\n",
    "    # regex_list, count_list = fit_main_branch(result[\"new_series\"], count_thres=count_thres,\n",
    "    #                                          direction=direction)\n",
    "    # n_main_line = result[\"new_series\"].drop_nulls().len()\n",
    "    # n_alt_line = result[\"alt_series\"].drop_nulls().len()\n",
    "    # regex_list = [result[\"regex\"]] + regex_list\n",
    "    # count_list = [n_main_line] + count_list\n",
    "\n",
    "    # if len(result[\"alt_series\"].drop_nulls()) > count_thres and optionals:\n",
    "\n",
    "    #     regex_main = \"\".join(rx.regex for rx in regex_list)\n",
    "    #     res = result[\"alt_series\"].str.extract(r\"(^[\\S\\s]*?)\" + regex_main + r\"$\")\n",
    "    #     alt_regex_list, alt_count_list = fit_main_branch(res, count_thres, direction)\n",
    "    #     if len(alt_regex_list) > 0:\n",
    "    #         regex_list = [(alt_regex_list, [])] + regex_list\n",
    "    #         count_list = [(alt_count_list[-1], n_main_line)] + count_list\n",
    "\n",
    "    # return return_links\n",
    "    # # return regex_list, count_list\n"
   ]
  },
  {
   "cell_type": "code",
   "execution_count": null,
   "id": "41c46269",
   "metadata": {},
   "outputs": [],
   "source": [
    "from regexmodel import RegexModel\n",
    "\n",
    "model = RegexModel.fit(email_addresses)"
   ]
  },
  {
   "cell_type": "markdown",
   "id": "f59f6b94",
   "metadata": {},
   "source": [
    "Let's first see how the good the model is by synthesizing new email addresses:"
   ]
  },
  {
   "cell_type": "code",
   "execution_count": null,
   "id": "17d658b4",
   "metadata": {},
   "outputs": [
    {
     "data": {
      "text/plain": [
       "['dgud@example.org',\n",
       " 'natjwmurwitgbkjq@example.org',\n",
       " 'sraysnxjcahfcbcfb@example.net',\n",
       " 'vyziuulecdno@example.com',\n",
       " 'ecmdnsbqgftfkiiuzk33@example.net',\n",
       " 'epii@example.org',\n",
       " 'xsmgl@example.com',\n",
       " 'femhyfnxeisv@example.com',\n",
       " 'vtimvqownq@example.org',\n",
       " 'twvfbssgqun@example.org']"
      ]
     },
     "execution_count": 7,
     "metadata": {},
     "output_type": "execute_result"
    }
   ],
   "source": [
    "[model.draw() for _ in range(10)]"
   ]
  },
  {
   "cell_type": "markdown",
   "id": "a3d9d942",
   "metadata": {},
   "source": [
    "While certainly not perfect, it certainly isn't so bad either, given that we have given the model only positive examples!\n",
    "\n",
    "Now let's look at the serialization of the model:"
   ]
  },
  {
   "cell_type": "code",
   "execution_count": null,
   "id": "a7821a86",
   "metadata": {
    "scrolled": true
   },
   "outputs": [
    {
     "data": {
      "text/plain": [
       "[{'regex': '[a-z]{3,18}[@][e][x][a][m][p][l][e][\\\\\\\\.][o][r][g]',\n",
       "  'weights': [1000,\n",
       "   728,\n",
       "   819,\n",
       "   819,\n",
       "   819,\n",
       "   819,\n",
       "   819,\n",
       "   819,\n",
       "   819,\n",
       "   819,\n",
       "   341,\n",
       "   341,\n",
       "   341],\n",
       "  'side_branches_before': [{'i_branch': 0, 'data': {'weight': 909}},\n",
       "   {'i_branch': 1,\n",
       "    'data': {'regex': '[a-z]{3,9}[0-9]{2,2}',\n",
       "     'weights': [91, 0],\n",
       "     'side_branches_before': [{'i_branch': 0, 'data': {'weight': 91}}],\n",
       "     'side_branches_after': []}}],\n",
       "  'side_branches_after': [{'i_branch': 0,\n",
       "    'data': {'regex': '[0-9]{2,2}[@][e][x][a][m][p][l][e][\\\\\\\\.][n][e][t]',\n",
       "     'weights': [180, 180, 180, 180, 180, 180, 180, 180, 180, 180, 93, 93, 93],\n",
       "     'side_branches_before': [],\n",
       "     'side_branches_after': [{'i_branch': 9,\n",
       "       'data': {'regex': '[c][o][m]',\n",
       "        'weights': [87, 87, 87],\n",
       "        'side_branches_before': [],\n",
       "        'side_branches_after': [{'i_branch': 2, 'data': {'weight': 87}}]}},\n",
       "      {'i_branch': 12, 'data': {'weight': 93}}]}},\n",
       "   {'i_branch': 0, 'data': {'weight': 1}},\n",
       "   {'i_branch': 9,\n",
       "    'data': {'regex': '[c][o][m]',\n",
       "     'weights': [248, 248, 248],\n",
       "     'side_branches_before': [],\n",
       "     'side_branches_after': [{'i_branch': 2, 'data': {'weight': 248}}]}},\n",
       "   {'i_branch': 9,\n",
       "    'data': {'regex': '[n][e][t]',\n",
       "     'weights': [230, 230, 230],\n",
       "     'side_branches_before': [],\n",
       "     'side_branches_after': [{'i_branch': 2, 'data': {'weight': 230}}]}},\n",
       "   {'i_branch': 12, 'data': {'weight': 341}}]}]"
      ]
     },
     "execution_count": 8,
     "metadata": {},
     "output_type": "execute_result"
    }
   ],
   "source": [
    "model.serialize()"
   ]
  },
  {
   "cell_type": "markdown",
   "id": "87953f7f",
   "metadata": {},
   "source": [
    "The serialization might seem overwhelming at first, but the first regex (`[a-z]{3,18}[0-9]{2,2}[@][a-z]{4,9}[\\\\\\\\.][c][o][m]`) is usually the most important one. We call this the main branch. On this main branch, there will be side branches, for example for \".info\" and \".biz\" email addresses."
   ]
  },
  {
   "cell_type": "markdown",
   "id": "033eecb4",
   "metadata": {},
   "source": [
    "## Modeling performance\n",
    "\n",
    "There are also some modeling statistics that can be computed. Note that computing these can take a while depending on your computer."
   ]
  },
  {
   "cell_type": "code",
   "execution_count": null,
   "id": "36d52d07",
   "metadata": {},
   "outputs": [
    {
     "data": {
      "text/plain": [
       "{'failed': 2,\n",
       " 'success': 998,\n",
       " 'n_tot_char': 21621,\n",
       " 'n_char_success': 21574,\n",
       " 'n_parameters': 51,\n",
       " 'avg_log_like_per_char': -1.6394319514351288,\n",
       " 'avg_log_like_pc_success': -1.627954654856158}"
      ]
     },
     "execution_count": 9,
     "metadata": {},
     "output_type": "execute_result"
    }
   ],
   "source": [
    "model.fit_statistics(email_addresses)"
   ]
  },
  {
   "cell_type": "markdown",
   "id": "6f8ce227",
   "metadata": {},
   "source": [
    "What the `fit_statistics` method does is to retrace back whether an email address that is given to it (e.g. johndoe@example.com) has a non-zero probability to be generated by the regex model. As we can see above, there were 18 email addresses in the list that have a probability of 0 to be generated by the model, while the overwhelming majority (982) can be generated with the fitted model.\n",
    "\n",
    "The value `n_parameters` gives the number of nodes in the model, and is thus an indicator of the complexity of the model. This is also correlated with the fit taking longer. We can influence this parameter during fitting by setting the `count_thres` parameter. If we set that threshold higher, we generally have a lower number of parameters and better performance.\n",
    "\n",
    "The statistic `avg_log_like_per_char` (average log-likelihood per character) shows how probable a value is on average per character. To understand this better, let's take a more simple example, where the regex is simply `\\d{2,2}`. For this regex, the log likelihood is simply log(1/10\\*1/10) = -2\\*log(10). Since all values have 2 characters, the average log-likelihood per character is -log(10) ~= 2.30. For failed values (values that cannot be generated by the model), we use a penalty score of -log(1000) per character.\n",
    "\n",
    "Ideally we want to have the lowest `n_parameters` (simplest model) with the highest `success` and the highest log-likelihood."
   ]
  },
  {
   "cell_type": "markdown",
   "id": "7e9fd48e",
   "metadata": {},
   "source": [
    "## Visualization"
   ]
  },
  {
   "cell_type": "markdown",
   "id": "77f1fbae",
   "metadata": {},
   "source": [
    "To more clearly understand how the graph looks like, we can plot the regex model using the `regex_model_to_pyvis` function. To retrace the paths that can be taken, first find the start node and find the main branch.\n",
    "\n",
    "Note: PyVis doesnt work interactively in VSCode/Code OSS."
   ]
  },
  {
   "cell_type": "code",
   "execution_count": null,
   "id": "da034fef",
   "metadata": {},
   "outputs": [
    {
     "name": "stdout",
     "output_type": "stream",
     "text": [
      "Warning: When  cdn_resources is 'local' jupyter notebook has issues displaying graphics on chrome/safari. Use cdn_resources='in_line' or cdn_resources='remote' if you have issues viewing graphics in a notebook.\n",
      "regex.html\n"
     ]
    },
    {
     "data": {
      "text/html": [
       "\n",
       "        <iframe\n",
       "            width=\"1000px\"\n",
       "            height=\"1000px\"\n",
       "            src=\"regex.html\"\n",
       "            frameborder=\"0\"\n",
       "            allowfullscreen\n",
       "            \n",
       "        ></iframe>\n",
       "        "
      ],
      "text/plain": [
       "<IPython.lib.display.IFrame at 0x7fc53cc8b8d0>"
      ]
     },
     "execution_count": 10,
     "metadata": {},
     "output_type": "execute_result"
    }
   ],
   "source": [
    "from regexmodel.visualization import regex_model_to_pyvis\n",
    "\n",
    "net = regex_model_to_pyvis(model)\n",
    "net.show(\"regex.html\", notebook=True)"
   ]
  }
 ],
 "metadata": {
  "kernelspec": {
   "display_name": "Python 3 (ipykernel)",
   "language": "python",
   "name": "python3"
  },
  "language_info": {
   "codemirror_mode": {
    "name": "ipython",
    "version": 3
   },
   "file_extension": ".py",
   "mimetype": "text/x-python",
   "name": "python",
   "nbconvert_exporter": "python",
   "pygments_lexer": "ipython3",
   "version": "3.11.1"
  }
 },
 "nbformat": 4,
 "nbformat_minor": 5
}
