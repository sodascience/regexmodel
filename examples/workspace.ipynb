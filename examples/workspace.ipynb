{
 "cells": [
  {
   "cell_type": "markdown",
   "id": "a96173cf",
   "metadata": {},
   "source": [
    "# Tutorial on regexmodel"
   ]
  },
  {
   "cell_type": "markdown",
   "id": "d52e532f",
   "metadata": {},
   "source": [
    "## Setup and installation"
   ]
  },
  {
   "cell_type": "markdown",
   "id": "5bcc3f78",
   "metadata": {},
   "source": [
    "If you haven't installed `regexmodel` yet, including the optional dependencies, do so now:"
   ]
  },
  {
   "cell_type": "code",
   "execution_count": 1,
   "id": "881dd17b",
   "metadata": {},
   "outputs": [],
   "source": [
    "# %pip install git+https://github.com/sodascience/regexmodel.git[tutorial]"
   ]
  },
  {
   "cell_type": "markdown",
   "id": "b748a354",
   "metadata": {},
   "source": [
    "Normally we would already have data that we want to model and synthesize, but for this tutorial we will use the faker package to generate that data for us. We will use fake email addresses."
   ]
  },
  {
   "cell_type": "code",
   "execution_count": 2,
   "id": "85dbeb0c",
   "metadata": {},
   "outputs": [],
   "source": [
    "from faker import Faker\n",
    "from regexmodel.util import Dir\n",
    "from regexmodel.datastructure import BaseRegex\n",
    "from regexmodel.model import RegexModel\n",
    "from regexmodel.datastructure import RegexNode, OrNode, Edge\n",
    "import polars as pl\n",
    "\n",
    "fake = Faker(\"nl\")\n",
    "Faker.seed(12345)\n",
    "email_addresses = pl.Series([fake.ascii_email() for _ in range(100)])\n",
    "series = email_addresses"
   ]
  },
  {
   "cell_type": "code",
   "execution_count": 3,
   "id": "d79b1dd8",
   "metadata": {},
   "outputs": [
    {
     "name": "stdout",
     "output_type": "stream",
     "text": [
      "['spruytnaomi@yahoo.com' 'dewi62@stichting.com' 'quinngarret@itm.net'\n",
      " 'juleselsenaar@vrancken.com' 'ayoub86@gmail.com'\n",
      " 'livlambers@stichting.com' 'hosterhoudt@stichting.com'\n",
      " 'kyralemmens@yahoo.com' 'berendkoning@yahoo.com' 'yasminolthof@royal.com']\n",
      "[]\n",
      "{LowerRegex[a-z]{1,1}: 0.11572272149184215, Literal [v]: 0.014310499662634622}\n",
      "------ [v]\n",
      "covered\n",
      "['@yahoo.com' '62@stichting.com' '@itm.net' '@vrancken.com' '86@gmail.com'\n",
      " '@stichting.com' '@stichting.com' '@yahoo.com' '@yahoo.com' '@royal.com']\n",
      "['62@stichting.com' '86@gmail.com' '00@hotmail.com' '81@aldi.com'\n",
      " '18@ernst.com' '-voorhout@gerrits.net' '-laonstefan@gmail.com'\n",
      " '-boer@stichting.com' '-arnsberg@allianz.com' '88@hotmail.com']\n",
      "{Literal [@]: 0.05537293642501126, DigitRegex[0-9]{1,1}: 0.03090171952049611, Literal [\\-]: 0.027500086307339626}\n",
      "------ [0-9]{1,1}\n",
      "delta 2 3.1622776601683795 39 0.16216808513683997\n",
      "delta 2 3.1622776601683795 27 0.23424278964210218\n",
      "a-z 0.6797436923898257 1.3202563076101743 0 0.3508198501851696 True\n",
      "{'a-z': 1.0}\n",
      "{'0-9': 1.0}\n",
      "{'a-z': 39}\n",
      "{'0-9': 27}\n",
      "------ [\\-]\n",
      "delta 2 3.1622776601683795 39 0.16216808513683997\n",
      "delta 2 3.1622776601683795 23 0.2749806661015982\n",
      "a-z 0.6797436923898257 1.3202563076101743 0.5829711718858506 1.4170288281141494 False\n",
      "Compatible\n",
      "['yahoo.com' 'itm.net' 'vrancken.com' 'stichting.com' 'stichting.com'\n",
      " 'yahoo.com' 'yahoo.com' 'royal.com' 'pepsico.net' 'gmail.com']\n",
      "[]\n",
      "{LowerRegex[a-z]{1,1}: 0.06330048560589892}\n",
      "['.com' '.com' '.com' '.com' '.com' '.com' '.com' '.net' '.com' '.com']\n",
      "['@gerrits.net' 'n@gmail.com' '@stichting.com' '@allianz.com'\n",
      " '@meeres.org' '@van.com' '@luster.com' '@van.com' '-vastraedsd@royal.com'\n",
      " 'robin@yahoo.com']\n",
      "{Literal [\\.]: 0.17363627558470557, Literal [@]: 0.020238524838907774}\n",
      "------ [@]\n",
      "delta 2 3.1622776601683795 32 0.19764235376052372\n",
      "delta 2 3.1622776601683795 16 0.39528470752104744\n",
      "a-z 0.6464466094067263 1.3535533905932737 0.5 1.5 False\n",
      "delta 2 3.1622776601683795 32 0.19764235376052372\n",
      "delta 2 3.1622776601683795 16 0.39528470752104744\n",
      "c 0.49381128040045097 1.1311887195995491 0 0.5920084971874737 False\n",
      "Compatible\n",
      "['com' 'com' 'com' 'com' 'com' 'com' 'com' 'net' 'com' 'com']\n",
      "['net' 'gerrits.net' 'stichting.com' 'allianz.com' 'info' 'biz'\n",
      " 'meeres.org' 'van.com' 'luster.com' 'van.com']\n",
      "{Literal [c]: 0.16475457735458116, LowerRegex[a-z]{1,1}: 0.12770932124761156}\n",
      "------ [a-z]{1,1}\n",
      "delta 2 3.1622776601683795 26 0.24325212770525997\n",
      "delta 2 3.1622776601683795 22 0.2874797872880345\n",
      "a-z 0.6077677297236319 1.392232270276368 0.5735985672887791 1.4264014327112209 False\n",
      "delta 2 3.1622776601683795 26 0.24325212770525997\n",
      "delta 2 3.1622776601683795 22 0.2874797872880345\n",
      "o 0.6077677297236319 1.392232270276368 0 0.4305516343181627 True\n",
      "{'o': 1.0, 'a-z': 1.0}\n",
      "{'a-z': 1.0}\n",
      "{'o': 26, 'a-z': 26}\n",
      "{'a-z': 22}\n",
      "['om' 'om' 'om' 'om' 'om' 'om' 'om' 'om' 'om' 'om']\n",
      "[]\n",
      "{Literal [o]: 0.21775908372901898, LowerRegex[a-z]{1,1}: 0.008375349374193037}\n",
      "------ [a-z]{1,1}\n",
      "Failed threshold 0\n",
      "['m' 'm' 'm' 'm' 'm' 'm' 'm' 'm' 'm' 'm']\n",
      "[]\n",
      "{Literal [m]: 0.2498169120728413, LowerRegex[a-z]{1,1}: 0.009608342772032357}\n",
      "------ [a-z]{1,1}\n",
      "Failed threshold 0\n",
      "['stichting.' 'allianz.' 'van.' 'luster.' 'van.' 'gmail.' 'hotmail.'\n",
      " 'stichting.' 'royal.' 'stichting.']\n",
      "[]\n",
      "{LowerRegex[a-z]{1,1}: 0.005504984414049785}\n",
      "['net' 'gerrits.net' 'stichting.com' 'allianz.com' 'info' 'biz'\n",
      " 'meeres.org' 'van.com' 'luster.com' 'van.com']\n",
      "[]\n",
      "{LowerRegex[a-z]{1,1}: 0.017984257042621674}\n",
      "['62' '86' '00' '81' '18' '88' '77' '06' 'orch' '27']\n",
      "['orch' 'l' 'l' 'man' 'nse']\n",
      "{DigitRegex[0-9]{1,1}: 0.07067089924916298}\n",
      "[a-z]{3,13}(|[0-9]{2,2})[@\\-][a-z]{4,9}[\\.@][c][o][m]\n"
     ]
    }
   ],
   "source": [
    "model = RegexModel.fit(email_addresses, count_thres=10)\n",
    "print(model.fit_statistics(email_addresses))\n",
    "print(model.regex)"
   ]
  },
  {
   "cell_type": "code",
   "execution_count": 4,
   "id": "55c319f6",
   "metadata": {},
   "outputs": [
    {
     "data": {
      "text/plain": [
       "array(['com', 'com', 'net', 'com', 'com', 'com', 'com', 'com', 'com',\n",
       "       'com', 'com', 'com', 'com', 'net', 'com', 'com', 'com', 'net',\n",
       "       'com', 'com', 'com', 'com', 'com', 'org', 'info', 'com', 'com',\n",
       "       'com', 'info', 'org', 'com', 'biz', 'com', 'org', 'com', 'com',\n",
       "       'com', 'com', 'com', 'com', 'info', 'com', 'com', 'com', 'com',\n",
       "       'com', 'com', 'com', 'com', 'com', 'com', 'com', 'org', 'com',\n",
       "       'info', 'com', 'com', 'info', 'org', 'com', 'biz', 'biz', 'com',\n",
       "       'com', 'com', 'com', 'com', 'com', 'org', 'com', 'com', 'com',\n",
       "       'com', 'com', 'com', 'com', 'com', 'net', 'com', 'net', 'com',\n",
       "       'com', 'com', 'com', 'com', 'com', 'info', 'net', 'com', 'net',\n",
       "       'com', 'com', 'com', 'com', 'com', 'com', 'com', 'com', 'com',\n",
       "       'com'], dtype=object)"
      ]
     },
     "execution_count": 4,
     "metadata": {},
     "output_type": "execute_result"
    }
   ],
   "source": [
    "series.str.extract(r\".*\\.([\\S\\s]*)$\").to_numpy()"
   ]
  },
  {
   "cell_type": "code",
   "execution_count": 5,
   "id": "2628bb0b",
   "metadata": {},
   "outputs": [],
   "source": [
    "import json\n",
    "with open(\"../scripts/data/benchmark.json\") as handle:\n",
    "    bench_data = json.load(handle)\n",
    "with open(\"../scripts/data2/benchmark.json\") as handle:\n",
    "    bench_data_new = json.load(handle)"
   ]
  },
  {
   "cell_type": "code",
   "execution_count": 6,
   "id": "bd234099",
   "metadata": {},
   "outputs": [],
   "source": [
    "import numpy as np\n",
    "from matplotlib import pyplot as plt\n",
    "\n",
    "def _get_success_rate(fake_type, bench_data):\n",
    "    n_param = []\n",
    "    success = []\n",
    "    fails = []\n",
    "    # for var_data in bench_data.values():\n",
    "    for data in bench_data[fake_type].values():\n",
    "        n_param.extend(x[\"n_parameters\"] for x in data)\n",
    "        success.extend(x[\"success\"] for x in data)\n",
    "        fails.extend(x[\"failed\"] for x in data)\n",
    "\n",
    "    success_rate = np.array(success)/(np.array(fails)+np.array(success))\n",
    "    return np.array(n_param), success_rate\n",
    "\n",
    "def plot_succes_rate(fake_type):\n",
    "    plt.scatter(*_get_success_rate(fake_type, bench_data), label=\"old\")\n",
    "    plt.scatter(*_get_success_rate(fake_type, bench_data_new), label=\"new\")\n",
    "    plt.legend()\n",
    "    plt.show()"
   ]
  },
  {
   "cell_type": "code",
   "execution_count": 7,
   "id": "21ec46b9",
   "metadata": {},
   "outputs": [
    {
     "data": {
      "image/png": "[encoded data removed]",
      "text/plain": [
       "<Figure size 640x480 with 1 Axes>"
      ]
     },
     "metadata": {},
     "output_type": "display_data"
    }
   ],
   "source": [
    "plot_succes_rate(\"address\")"
   ]
  },
  {
   "cell_type": "code",
   "execution_count": 8,
   "id": "cda58230",
   "metadata": {},
   "outputs": [
    {
     "name": "stdout",
     "output_type": "stream",
     "text": [
      "spruytnaomi@yahoo.com [('', -58.208597289162114)]\n",
      "dewi62@stichting.com [('', -53.46436105505102)]\n",
      "quinngarret@itm.net []\n",
      "juleselsenaar@vrancken.com [('', -74.49907997926951)]\n",
      "ayoub86@gmail.com [('', -43.69007144098657)]\n",
      "livlambers@stichting.com [('', -67.98288690322656)]\n",
      "hosterhoudt@stichting.com [('', -71.24098344124803)]\n",
      "kyralemmens@yahoo.com [('', -58.208597289162114)]\n",
      "berendkoning@yahoo.com [('', -61.46669382718359)]\n",
      "yasminolthof@royal.com [('', -61.46669382718359)]\n"
     ]
    }
   ],
   "source": [
    "for url in email_addresses[:10]:\n",
    "    print(url, list(model.regex_edge.log_likelihood(url)))"
   ]
  },
  {
   "cell_type": "code",
   "execution_count": 9,
   "id": "cfbcecd7",
   "metadata": {},
   "outputs": [],
   "source": [
    "\n",
    "def create_regex_from_list(regex_data):\n",
    "    if isinstance(regex_data, BaseRegex):\n",
    "        return regex_data.regex\n",
    "    if isinstance(regex_data, tuple):\n",
    "        optional_regex = [create_regex_from_list(rx) for rx in regex_data]\n",
    "        return r\"(\" + r\"|\".join(optional_regex) + \")\"\n",
    "    return \"\".join(create_regex_from_list(rx) for rx in regex_data)\n",
    "\n"
   ]
  },
  {
   "cell_type": "markdown",
   "id": "3bf81a26",
   "metadata": {},
   "source": [
    "## Modeling the structured strings\n",
    "\n",
    "Now we will use the regexmodel package to model the data:"
   ]
  },
  {
   "cell_type": "code",
   "execution_count": 10,
   "id": "4f49e44c",
   "metadata": {},
   "outputs": [],
   "source": [
    "    # while cur_series.drop_nulls().len() > count_thres:\n",
    "        \n",
    "    # if result[\"score\"] < count_thres/len(series):\n",
    "    #     return [], []\n",
    "    # regex_list, count_list = fit_main_branch(result[\"new_series\"], count_thres=count_thres,\n",
    "    #                                          direction=direction)\n",
    "    # n_main_line = result[\"new_series\"].drop_nulls().len()\n",
    "    # n_alt_line = result[\"alt_series\"].drop_nulls().len()\n",
    "    # regex_list = [result[\"regex\"]] + regex_list\n",
    "    # count_list = [n_main_line] + count_list\n",
    "\n",
    "    # if len(result[\"alt_series\"].drop_nulls()) > count_thres and optionals:\n",
    "\n",
    "    #     regex_main = \"\".join(rx.regex for rx in regex_list)\n",
    "    #     res = result[\"alt_series\"].str.extract(r\"(^[\\S\\s]*?)\" + regex_main + r\"$\")\n",
    "    #     alt_regex_list, alt_count_list = fit_main_branch(res, count_thres, direction)\n",
    "    #     if len(alt_regex_list) > 0:\n",
    "    #         regex_list = [(alt_regex_list, [])] + regex_list\n",
    "    #         count_list = [(alt_count_list[-1], n_main_line)] + count_list\n",
    "\n",
    "    # return return_links\n",
    "    # # return regex_list, count_list\n"
   ]
  },
  {
   "cell_type": "code",
   "execution_count": 11,
   "id": "41c46269",
   "metadata": {},
   "outputs": [
    {
     "name": "stdout",
     "output_type": "stream",
     "text": [
      "['spruytnaomi@yahoo.com' 'dewi62@stichting.com' 'quinngarret@itm.net'\n",
      " 'juleselsenaar@vrancken.com' 'ayoub86@gmail.com'\n",
      " 'livlambers@stichting.com' 'hosterhoudt@stichting.com'\n",
      " 'kyralemmens@yahoo.com' 'berendkoning@yahoo.com' 'yasminolthof@royal.com']\n",
      "[]\n",
      "{LowerRegex[a-z]{1,1}: 0.11833571691062578, Literal [v]: 0.014324856263925816, Literal [s]: 0.010793059272101344, Literal [k]: 0.009563622646931426, Literal [l]: 0.008437618536041868, Literal [j]: 0.007168041887124249, Literal [a]: 0.00715646283488971, Literal [r]: 0.007156215327413979, Literal [b]: 0.005990816577544567, Literal [o]: 0.005975157634506794, Literal [d]: 0.005966519758148896, Literal [e]: 0.004772906074138396, Literal [y]: 0.0035841830055719504, Literal [g]: 0.0035788625810424714, Literal [c]: 0.003577447139119802}\n",
      "------ [v]\n",
      "covered\n",
      "------ [s]\n",
      "covered\n",
      "------ [k]\n",
      "covered\n",
      "------ [l]\n",
      "covered\n",
      "------ [j]\n",
      "covered\n",
      "------ [a]\n",
      "covered\n",
      "------ [r]\n",
      "covered\n",
      "------ [b]\n",
      "covered\n",
      "------ [o]\n",
      "covered\n",
      "------ [d]\n",
      "covered\n",
      "------ [e]\n",
      "covered\n",
      "------ [y]\n",
      "covered\n",
      "------ [g]\n",
      "covered\n",
      "------ [c]\n",
      "covered\n",
      "['@yahoo.com' '62@stichting.com' '@itm.net' '@vrancken.com' '86@gmail.com'\n",
      " '@stichting.com' '@stichting.com' '@yahoo.com' '@yahoo.com' '@royal.com']\n",
      "['62@stichting.com' '86@gmail.com' '00@hotmail.com'\n",
      " '-keijzerluna@gmail.com' '81@aldi.com' '18@ernst.com'\n",
      " '-voorhout@gerrits.net' '-laonstefan@gmail.com' '-boer@stichting.com'\n",
      " '-arnsberg@allianz.com']\n",
      "{Literal [@]: 0.099942097781982, DigitRegex[0-9]{1,1}: 0.037367414181283774, Literal [\\-]: 0.031337388659724325, Literal [1]: 0.006341871357962192, Literal [8]: 0.006158481463152757, Literal [6]: 0.004899342734862675, Literal [7]: 0.004859651994657041, Literal [2]: 0.0037578991795975936, Literal [0]: 0.003664205707073296}\n",
      "------ [0-9]{1,1}\n",
      "delta 2 1.7320508075688772 45 0.0769800358919501\n",
      "delta 2 1.7320508075688772 28 0.12371791482634838\n",
      "a-z 0.7018576030000281 1.298142396999972 0 0.20357142857142857 True\n",
      "{'a-z': 1.0, 'y': 0.2222222222222222, 'v': 0.1111111111111111, 'g': 0.1111111111111111, 'r': 0.08888888888888889, 's': 0.08888888888888889, 'h': 0.06666666666666667, 'k': 0.06666666666666667}\n",
      "{'0-9': 1.0, '6': 0.21428571428571427, '0': 0.21428571428571427, '7': 0.14285714285714285, '8': 0.10714285714285714, '2': 0.10714285714285714}\n",
      "{'a-z': 45, 'y': 10, 'v': 5, 'g': 5, 'r': 4, 's': 4, 'h': 3, 'k': 3}\n",
      "{'0-9': 28, '6': 6, '0': 6, '7': 4, '8': 3, '2': 3}\n",
      "------ [\\-]\n",
      "delta 2 1.7320508075688772 45 0.0769800358919501\n",
      "delta 2 1.7320508075688772 26 0.13323467750529824\n",
      "a-z 0.7018576030000281 1.298142396999972 0.6077677297236319 1.392232270276368 False\n",
      "delta 2 1.7320508075688772 45 0.0769800358919501\n",
      "delta 2 1.7320508075688772 26 0.13323467750529824\n",
      "v -0.03888888888888889 0.26111111111111107 0 0.20769230769230768 False\n",
      "delta 2 1.7320508075688772 45 0.0769800358919501\n",
      "delta 2 1.7320508075688772 26 0.13323467750529824\n",
      "k -0.08333333333333333 0.21666666666666667 -0.0346153846153846 0.2653846153846154 False\n",
      "delta 2 1.7320508075688772 45 0.0769800358919501\n",
      "delta 2 1.7320508075688772 26 0.13323467750529824\n",
      "g -0.03888888888888889 0.26111111111111107 0 0.20769230769230768 False\n",
      "delta 2 1.7320508075688772 45 0.0769800358919501\n",
      "delta 2 1.7320508075688772 26 0.13323467750529824\n",
      "y 0.07222222222222222 0.37222222222222223 0 0.20769230769230768 False\n",
      "delta 2 1.7320508075688772 45 0.0769800358919501\n",
      "delta 2 1.7320508075688772 26 0.13323467750529824\n",
      "o 0 0.18333333333333332 -0.0346153846153846 0.2653846153846154 False\n",
      "delta 2 1.7320508075688772 45 0.0769800358919501\n",
      "delta 2 1.7320508075688772 26 0.13323467750529824\n",
      "h -0.08333333333333333 0.21666666666666667 0 0.20769230769230768 False\n",
      "delta 2 1.7320508075688772 45 0.0769800358919501\n",
      "delta 2 1.7320508075688772 26 0.13323467750529824\n",
      "d 0 0.18333333333333332 0.0 0.3076923076923077 False\n",
      "delta 2 1.7320508075688772 45 0.0769800358919501\n",
      "delta 2 1.7320508075688772 26 0.13323467750529824\n",
      "s -0.0611111111111111 0.23888888888888887 0 0.20769230769230768 False\n",
      "delta 2 1.7320508075688772 45 0.0769800358919501\n",
      "delta 2 1.7320508075688772 26 0.13323467750529824\n",
      "b 0 0.18333333333333332 0.0 0.3076923076923077 False\n",
      "delta 2 1.7320508075688772 45 0.0769800358919501\n",
      "delta 2 1.7320508075688772 26 0.13323467750529824\n",
      "r -0.0611111111111111 0.23888888888888887 0 0.20769230769230768 False\n",
      "Compatible\n",
      "------ [1]\n",
      "Failed threshold 0\n",
      "------ [8]\n",
      "Failed threshold 0\n",
      "------ [6]\n",
      "Failed threshold 0\n",
      "------ [7]\n",
      "Failed threshold 0\n",
      "------ [2]\n",
      "Failed threshold 0\n",
      "------ [0]\n",
      "Failed threshold 0\n",
      "['yahoo.com' 'itm.net' 'vrancken.com' 'stichting.com' 'stichting.com'\n",
      " 'yahoo.com' 'yahoo.com' 'royal.com' 'keijzerluna@gmail.com' 'pepsico.net']\n",
      "[]\n",
      "{LowerRegex[a-z]{1,1}: 0.101312711340826, Literal [y]: 0.01658015222118444, Literal [v]: 0.009418714902633848, Literal [k]: 0.0072075961984804085, Literal [g]: 0.0070449693997659876, Literal [r]: 0.006370910450365874, Literal [s]: 0.006108723376492884, Literal [h]: 0.006056631095618507, Literal [b]: 0.006032554609148426, Literal [d]: 0.004773841546729856, Literal [l]: 0.003624487722586708, Literal [o]: 0.003580553212703414}\n",
      "------ [y]\n",
      "covered\n",
      "------ [v]\n",
      "covered\n",
      "------ [k]\n",
      "covered\n",
      "------ [g]\n",
      "covered\n",
      "------ [r]\n",
      "covered\n",
      "------ [s]\n",
      "covered\n",
      "------ [h]\n",
      "covered\n",
      "------ [b]\n",
      "covered\n",
      "------ [d]\n",
      "covered\n",
      "------ [l]\n",
      "covered\n",
      "------ [o]\n",
      "covered\n",
      "['.com' '.net' '.com' '.com' '.com' '.com' '.com' '.com' '@gmail.com'\n",
      " '.net']\n",
      "['@gmail.com' '@gerrits.net' '@gmail.com' '@stichting.com' '@allianz.com'\n",
      " '@meeres.org' '-brinkjulian@consolid.com' '@hotmail.com' '@van.com'\n",
      " '@luster.com']\n",
      "{Literal [\\.]: 0.44984432380866674, Literal [@]: 0.03058691583552141, Literal [\\-]: 0.003579607781678023}\n",
      "------ [@]\n",
      "delta 2 1.7320508075688772 45 0.0769800358919501\n",
      "delta 2 1.7320508075688772 20 0.17320508075688773\n",
      "a-z 0.7018576030000281 1.298142396999972 0.552786404500042 1.4472135954999579 False\n",
      "delta 2 1.7320508075688772 45 0.0769800358919501\n",
      "delta 2 1.7320508075688772 20 0.17320508075688773\n",
      "g 0 0.18333333333333332 0.0 0.4 False\n",
      "delta 2 1.7320508075688772 45 0.0769800358919501\n",
      "delta 2 1.7320508075688772 20 0.17320508075688773\n",
      "h 0 0.18333333333333332 -0.023205080756887736 0.3232050807568877 False\n",
      "delta 2 1.7320508075688772 45 0.0769800358919501\n",
      "delta 2 1.7320508075688772 20 0.17320508075688773\n",
      "n -0.0611111111111111 0.23888888888888887 0 0.22499999999999998 False\n",
      "delta 2 1.7320508075688772 45 0.0769800358919501\n",
      "delta 2 1.7320508075688772 20 0.17320508075688773\n",
      "i -0.0611111111111111 0.23888888888888887 0 0.22499999999999998 False\n",
      "delta 2 1.7320508075688772 45 0.0769800358919501\n",
      "delta 2 1.7320508075688772 20 0.17320508075688773\n",
      "s 0 0.18333333333333332 0.02639320225002101 0.473606797749979 False\n",
      "delta 2 1.7320508075688772 45 0.0769800358919501\n",
      "delta 2 1.7320508075688772 20 0.17320508075688773\n",
      "c 0.47801943793164314 0.9886472287350234 0 0.22499999999999998 True\n",
      "{'c': 0.7333333333333333, 'a-z': 1.0, 'n': 0.08888888888888889, 'i': 0.08888888888888889}\n",
      "{'a-z': 1.0, 's': 0.25, 'g': 0.2, 'h': 0.15}\n",
      "{'c': 33, 'a-z': 45, 'n': 4, 'i': 4}\n",
      "{'a-z': 20, 's': 5, 'g': 4, 'h': 3}\n",
      "------ [\\-]\n",
      "delta 2 1.7320508075688772 45 0.0769800358919501\n",
      "delta 2 1.7320508075688772 3 1.1547005383792515\n",
      "n -0.0611111111111111 0.23888888888888887 0 1.3164965809277258 False\n",
      "delta 2 1.7320508075688772 45 0.0769800358919501\n",
      "delta 2 1.7320508075688772 3 1.1547005383792515\n",
      "a-z 0.7018576030000281 1.298142396999972 0 1.3164965809277258 False\n",
      "delta 2 1.7320508075688772 45 0.0769800358919501\n",
      "delta 2 1.7320508075688772 3 1.1547005383792515\n",
      "i -0.0611111111111111 0.23888888888888887 0 1.3164965809277258 False\n",
      "delta 2 1.7320508075688772 45 0.0769800358919501\n",
      "delta 2 1.7320508075688772 3 1.1547005383792515\n",
      "c 0.47801943793164314 0.9886472287350234 0 1.3164965809277258 False\n",
      "Compatible\n",
      "['com' 'net' 'com' 'com' 'com' 'com' 'com' 'com' 'net' 'com']\n",
      "['net' 'net' 'info' 'info' 'biz' 'brinkjulian@consolid.com' 'info'\n",
      " 'vastraedsd@royal.com' 'info' 'org']\n",
      "{Literal [c]: 0.3299492610344254, LowerRegex[a-z]{1,1}: 0.1291949276478685, Literal [n]: 0.013331678693355076, Literal [i]: 0.010099922413048044, Literal [b]: 0.0038382135186506984}\n",
      "------ [a-z]{1,1}\n",
      "delta 2 1.7320508075688772 33 0.10497277621629558\n",
      "delta 2 1.7320508075688772 15 0.2309401076758503\n",
      "n 0 0.19545454545454544 0.0 0.5333333333333333 False\n",
      "delta 2 1.7320508075688772 33 0.10497277621629558\n",
      "delta 2 1.7320508075688772 15 0.2309401076758503\n",
      "a-z 0.6518446880886044 1.3481553119113956 0.4836022205056777 1.5163977794943224 False\n",
      "delta 2 1.7320508075688772 33 0.10497277621629558\n",
      "delta 2 1.7320508075688772 15 0.2309401076758503\n",
      "o 0.6518446880886044 1.3481553119113956 0 0.2632993161855452 True\n",
      "{'o': 1.0, 'a-z': 1.0}\n",
      "{'n': 0.26666666666666666, 'a-z': 1.0, 'e': 0.3333333333333333, 'r': 0.2}\n",
      "{'o': 33, 'a-z': 33}\n",
      "{'n': 4, 'a-z': 15, 'e': 5, 'r': 3}\n",
      "------ [n]\n",
      "Failed threshold 0\n",
      "------ [i]\n",
      "Failed threshold 0\n",
      "------ [b]\n",
      "Failed threshold 0\n",
      "['om' 'om' 'om' 'om' 'om' 'om' 'om' 'om' 'om' 'om']\n",
      "[]\n",
      "{Literal [o]: 0.32999950000320055, LowerRegex[a-z]{1,1}: 0.01269228846166156}\n",
      "------ [a-z]{1,1}\n",
      "Failed threshold 0\n",
      "['m' 'm' 'm' 'm' 'm' 'm' 'm' 'm' 'm' 'm']\n",
      "[]\n",
      "{Literal [m]: 0.32999999931981927, LowerRegex[a-z]{1,1}: 0.012692307666146896}\n",
      "------ [a-z]{1,1}\n",
      "Failed threshold 0\n",
      "['net' 'net' 'info' 'info' 'biz' 'brinkjulian@consolid.com' 'info'\n",
      " 'vastraedsd@royal.com' 'info' 'org']\n",
      "['info' 'info' 'biz' 'brinkjulian@consolid.com' 'info'\n",
      " 'vastraedsd@royal.com' 'info' 'org' 'biz' 'hesbaye@hotmail.com']\n",
      "{Literal [n]: 0.013331678693355076, LowerRegex[a-z]{1,1}: 0.010983457779141736, Literal [i]: 0.010099922413048044, Literal [b]: 0.0038382135186506984}\n",
      "------ [a-z]{1,1}\n",
      "delta 2 1.7320508075688772 4 0.8660254037844386\n",
      "delta 2 1.7320508075688772 11 0.31491832864888675\n",
      "n 0 0.9873724356957945 0.0 0.7272727272727273 False\n",
      "delta 2 1.7320508075688772 4 0.8660254037844386\n",
      "delta 2 1.7320508075688772 11 0.31491832864888675\n",
      "a-z 0.0 2.0 0.39697731084447274 1.6030226891555273 False\n",
      "delta 2 1.7320508075688772 4 0.8660254037844386\n",
      "delta 2 1.7320508075688772 11 0.31491832864888675\n",
      "e 0.0 2.0 0 0.35904452207119797 False\n",
      "delta 2 1.7320508075688772 4 0.8660254037844386\n",
      "delta 2 1.7320508075688772 11 0.31491832864888675\n",
      "r 0 0.9873724356957945 -0.04219105592161404 0.5876456013761595 False\n",
      "Compatible\n",
      "------ [i]\n",
      "covered\n",
      "------ [b]\n",
      "covered\n",
      "delta 2 1.7320508075688772 4 0.8660254037844386\n",
      "delta 2 1.7320508075688772 15 0.2309401076758503\n",
      "a-z 0.0 2.0 0.4836022205056777 1.5163977794943224 False\n",
      "delta 2 1.7320508075688772 4 0.8660254037844386\n",
      "delta 2 1.7320508075688772 15 0.2309401076758503\n",
      "f 0.0 2.0 0.0 0.5333333333333333 False\n",
      "delta 2 1.7320508075688772 4 0.8660254037844386\n",
      "delta 2 1.7320508075688772 15 0.2309401076758503\n",
      "t 0 0.9873724356957945 0.0 0.5333333333333333 False\n",
      "delta 2 1.7320508075688772 15 0.2309401076758503\n",
      "a-z 0 1 0.11389982519138792 0.8194335081419455 False\n",
      "delta 2 1.7320508075688772 15 0.2309401076758503\n",
      "o 0 1 0.0 0.5333333333333333 False\n",
      "['@gmail' '@gerrits' '@gmail' '@stichting' '@allianz' '@meeres' '@hotmail'\n",
      " '@van' '@luster' '@van']\n",
      "['bin@yahoo']\n",
      "{Literal [@]: 0.06295317991525239}\n",
      "['gmail' 'gerrits' 'gmail' 'stichting' 'allianz' 'meeres' 'hotmail' 'van'\n",
      " 'luster' 'van']\n",
      "[]\n",
      "{LowerRegex[a-z]{1,1}: 0.03359946529128941, Literal [g]: 0.0075123329799768835, Literal [s]: 0.0069652753421580735, Literal [h]: 0.004386072750115298}\n",
      "------ [g]\n",
      "covered\n",
      "------ [s]\n",
      "covered\n",
      "------ [h]\n",
      "covered\n",
      "['@van.com' '@van.com' 'bin@yahoo.com' '@specsavers.info'\n",
      " '@westermann.net']\n",
      "['bin@yahoo.com']\n",
      "{Literal [@]: 0.005015580940262435}\n",
      "['van.com' 'van.com' 'specsavers.info' 'westermann.net']\n",
      "[]\n",
      "{LowerRegex[a-z]{1,1}: 0.0005913419284366704}\n",
      "['62' '86' '00' '81' '18' '88' '60' '77' '34' '06']\n",
      "['h']\n",
      "{DigitRegex[0-9]{1,1}: 0.2519960626729657, Literal [1]: 0.02912851032311574, Literal [8]: 0.02912851032311574, Literal [6]: 0.018668638469954747, Literal [7]: 0.018668638469954747, Literal [0]: 0.010630310813226136, Literal [2]: 0.010630310813226136}\n",
      "------ [1]\n",
      "covered\n",
      "------ [8]\n",
      "covered\n",
      "------ [6]\n",
      "covered\n",
      "------ [7]\n",
      "covered\n",
      "------ [0]\n",
      "covered\n",
      "------ [2]\n",
      "covered\n"
     ]
    }
   ],
   "source": [
    "from regexmodel import RegexModel\n",
    "\n",
    "model = RegexModel.fit(email_addresses)"
   ]
  },
  {
   "cell_type": "markdown",
   "id": "f59f6b94",
   "metadata": {},
   "source": [
    "Let's first see how the good the model is by synthesizing new email addresses:"
   ]
  },
  {
   "cell_type": "code",
   "execution_count": 12,
   "id": "17d658b4",
   "metadata": {},
   "outputs": [
    {
     "data": {
      "text/plain": [
       "['tysaexlohr-uaoygkecsxc-com',\n",
       " 'yxk@xpfmfcdieg-nftwgt',\n",
       " 'jjtctxnewynloote@cqscaqanw.com',\n",
       " 'ftrpdaiov-kwmruuoz.com',\n",
       " 'qcjilseueeys91-xutvellugey-com',\n",
       " 'fevzpgc72-inyhwbdrm-nbppjt',\n",
       " 'yszvqkgewmkdbubb98@cptehfyx-com',\n",
       " 'fyrz10@coevknwno-com',\n",
       " 'nlsjhadxdh44-ofjojc.com',\n",
       " 'bafy-yyvqoei@nekobs.mcq']"
      ]
     },
     "execution_count": 12,
     "metadata": {},
     "output_type": "execute_result"
    }
   ],
   "source": [
    "[model.draw() for _ in range(10)]"
   ]
  },
  {
   "cell_type": "markdown",
   "id": "a3d9d942",
   "metadata": {},
   "source": [
    "While certainly not perfect, it certainly isn't so bad either, given that we have given the model only positive examples!\n",
    "\n",
    "Now let's look at the serialization of the model:"
   ]
  },
  {
   "cell_type": "code",
   "execution_count": 13,
   "id": "a7821a86",
   "metadata": {
    "scrolled": true
   },
   "outputs": [
    {
     "ename": "AttributeError",
     "evalue": "'RegexModel' object has no attribute 'serialize'",
     "output_type": "error",
     "traceback": [
      "\u001b[0;31m---------------------------------------------------------------------------\u001b[0m",
      "\u001b[0;31mAttributeError\u001b[0m                            Traceback (most recent call last)",
      "Cell \u001b[0;32mIn[13], line 1\u001b[0m\n\u001b[0;32m----> 1\u001b[0m model\u001b[39m.\u001b[39;49mserialize()\n",
      "\u001b[0;31mAttributeError\u001b[0m: 'RegexModel' object has no attribute 'serialize'"
     ]
    }
   ],
   "source": [
    "model.serialize()"
   ]
  },
  {
   "cell_type": "markdown",
   "id": "87953f7f",
   "metadata": {},
   "source": [
    "The serialization might seem overwhelming at first, but the first regex (`[a-z]{3,18}[0-9]{2,2}[@][a-z]{4,9}[\\\\\\\\.][c][o][m]`) is usually the most important one. We call this the main branch. On this main branch, there will be side branches, for example for \".info\" and \".biz\" email addresses."
   ]
  },
  {
   "cell_type": "markdown",
   "id": "033eecb4",
   "metadata": {},
   "source": [
    "## Modeling performance\n",
    "\n",
    "There are also some modeling statistics that can be computed. Note that computing these can take a while depending on your computer."
   ]
  },
  {
   "cell_type": "code",
   "execution_count": null,
   "id": "36d52d07",
   "metadata": {},
   "outputs": [],
   "source": [
    "model.fit_statistics(email_addresses)"
   ]
  },
  {
   "cell_type": "markdown",
   "id": "6f8ce227",
   "metadata": {},
   "source": [
    "What the `fit_statistics` method does is to retrace back whether an email address that is given to it (e.g. johndoe@example.com) has a non-zero probability to be generated by the regex model. As we can see above, there were 18 email addresses in the list that have a probability of 0 to be generated by the model, while the overwhelming majority (982) can be generated with the fitted model.\n",
    "\n",
    "The value `n_parameters` gives the number of nodes in the model, and is thus an indicator of the complexity of the model. This is also correlated with the fit taking longer. We can influence this parameter during fitting by setting the `count_thres` parameter. If we set that threshold higher, we generally have a lower number of parameters and better performance.\n",
    "\n",
    "The statistic `avg_log_like_per_char` (average log-likelihood per character) shows how probable a value is on average per character. To understand this better, let's take a more simple example, where the regex is simply `\\d{2,2}`. For this regex, the log likelihood is simply log(1/10\\*1/10) = -2\\*log(10). Since all values have 2 characters, the average log-likelihood per character is -log(10) ~= 2.30. For failed values (values that cannot be generated by the model), we use a penalty score of -log(1000) per character.\n",
    "\n",
    "Ideally we want to have the lowest `n_parameters` (simplest model) with the highest `success` and the highest log-likelihood."
   ]
  },
  {
   "cell_type": "markdown",
   "id": "7e9fd48e",
   "metadata": {},
   "source": [
    "## Visualization"
   ]
  },
  {
   "cell_type": "markdown",
   "id": "77f1fbae",
   "metadata": {},
   "source": [
    "To more clearly understand how the graph looks like, we can plot the regex model using the `regex_model_to_pyvis` function. To retrace the paths that can be taken, first find the start node and find the main branch.\n",
    "\n",
    "Note: PyVis doesnt work interactively in VSCode/Code OSS."
   ]
  },
  {
   "cell_type": "code",
   "execution_count": null,
   "id": "da034fef",
   "metadata": {},
   "outputs": [],
   "source": [
    "from regexmodel.visualization import regex_model_to_pyvis\n",
    "\n",
    "net = regex_model_to_pyvis(model)\n",
    "net.show(\"regex.html\", notebook=True)"
   ]
  }
 ],
 "metadata": {
  "kernelspec": {
   "display_name": "Python 3 (ipykernel)",
   "language": "python",
   "name": "python3"
  },
  "language_info": {
   "codemirror_mode": {
    "name": "ipython",
    "version": 3
   },
   "file_extension": ".py",
   "mimetype": "text/x-python",
   "name": "python",
   "nbconvert_exporter": "python",
   "pygments_lexer": "ipython3",
   "version": "3.11.1"
  }
 },
 "nbformat": 4,
 "nbformat_minor": 5
}
