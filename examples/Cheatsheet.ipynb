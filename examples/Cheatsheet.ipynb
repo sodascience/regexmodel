{
 "cells": [
  {
   "cell_type": "markdown",
   "id": "aeb50a7b",
   "metadata": {},
   "source": [
    "# All available regex constructions"
   ]
  },
  {
   "cell_type": "code",
   "execution_count": 1,
   "id": "d8fc8322",
   "metadata": {},
   "outputs": [],
   "source": [
    "from regexmodel import RegexModel"
   ]
  },
  {
   "cell_type": "markdown",
   "id": "4c530177",
   "metadata": {},
   "source": [
    "### Digits"
   ]
  },
  {
   "cell_type": "code",
   "execution_count": 2,
   "id": "482b5ff1",
   "metadata": {},
   "outputs": [
    {
     "name": "stdout",
     "output_type": "stream",
     "text": [
      "Single digits: ['8', '2', '4', '2']\n"
     ]
    }
   ],
   "source": [
    "print(\"Single digits:\", [RegexModel(\"[0-9]\").draw() for _ in range(4)])"
   ]
  },
  {
   "cell_type": "code",
   "execution_count": 3,
   "id": "804dcf0c",
   "metadata": {},
   "outputs": [
    {
     "name": "stdout",
     "output_type": "stream",
     "text": [
      "Single digits with \\d: ['6', '6', '2', '5']\n"
     ]
    }
   ],
   "source": [
    "print(\"Single digits with \\\\d:\", [RegexModel(\"\\d\").draw() for _ in range(4)])"
   ]
  },
  {
   "cell_type": "code",
   "execution_count": 4,
   "id": "052ca6c7",
   "metadata": {},
   "outputs": [
    {
     "name": "stdout",
     "output_type": "stream",
     "text": [
      "Sub range for digits (0-3):  ['1', '3', '1', '3']\n"
     ]
    }
   ],
   "source": [
    "print(\"Sub range for digits (0-3): \", [RegexModel(\"[0-3]\").draw() for _ in range(4)])"
   ]
  },
  {
   "cell_type": "markdown",
   "id": "0f5c6adf",
   "metadata": {},
   "source": [
    "### Letters"
   ]
  },
  {
   "cell_type": "code",
   "execution_count": 5,
   "id": "8a228ff1",
   "metadata": {},
   "outputs": [
    {
     "name": "stdout",
     "output_type": "stream",
     "text": [
      "lower case ['c', 't', 'z', 'e']\n"
     ]
    }
   ],
   "source": [
    "print(\"lower case\", [RegexModel(\"[a-z]\").draw() for _ in range(4)])"
   ]
  },
  {
   "cell_type": "code",
   "execution_count": 6,
   "id": "d31647b1",
   "metadata": {},
   "outputs": [
    {
     "name": "stdout",
     "output_type": "stream",
     "text": [
      "upper case ['J', 'W', 'O', 'J']\n"
     ]
    }
   ],
   "source": [
    "print(\"upper case\", [RegexModel(\"[A-Z]\").draw() for _ in range(4)])"
   ]
  },
  {
   "cell_type": "code",
   "execution_count": 7,
   "id": "7f429ccd",
   "metadata": {},
   "outputs": [
    {
     "name": "stdout",
     "output_type": "stream",
     "text": [
      "Lower and upper case: ['T', 'd', 'Q', 'K']\n"
     ]
    }
   ],
   "source": [
    "print(\"Lower and upper case:\", [RegexModel(\"[a-zA-Z]\").draw() for _ in range(4)])"
   ]
  },
  {
   "cell_type": "code",
   "execution_count": 8,
   "id": "1c00687a",
   "metadata": {},
   "outputs": [
    {
     "name": "stdout",
     "output_type": "stream",
     "text": [
      "Sub ranges (d-f): ['e', 'f', 'd', 'f']\n"
     ]
    }
   ],
   "source": [
    "print(\"Sub ranges (d-f):\", [RegexModel(\"[d-f]\").draw() for _ in range(4)])"
   ]
  },
  {
   "cell_type": "markdown",
   "id": "a5f0124b",
   "metadata": {},
   "source": [
    "### Single characters"
   ]
  },
  {
   "cell_type": "code",
   "execution_count": 9,
   "id": "80b3dfe1",
   "metadata": {},
   "outputs": [
    {
     "name": "stdout",
     "output_type": "stream",
     "text": [
      "Always a:  ['a', 'a', 'a', 'a']\n"
     ]
    }
   ],
   "source": [
    "print(\"Always a: \",  [RegexModel(\"a\").draw() for _ in range(4)])"
   ]
  },
  {
   "cell_type": "code",
   "execution_count": 10,
   "id": "7816c11f",
   "metadata": {},
   "outputs": [
    {
     "name": "stdout",
     "output_type": "stream",
     "text": [
      "Also always a: ['a', 'a', 'a', 'a']\n"
     ]
    }
   ],
   "source": [
    "print(\"Also always a:\", [RegexModel(\"[a]\").draw() for _ in range(4)])"
   ]
  },
  {
   "cell_type": "code",
   "execution_count": 11,
   "id": "d7b9e7c2",
   "metadata": {},
   "outputs": [
    {
     "name": "stdout",
     "output_type": "stream",
     "text": [
      "a or b or c: ['a', 'a', 'b', 'a']\n"
     ]
    }
   ],
   "source": [
    "print(\"a or b or c:\", [RegexModel(\"[abc]\").draw() for _ in range(4)])"
   ]
  },
  {
   "cell_type": "markdown",
   "id": "ea43f2bf",
   "metadata": {},
   "source": [
    "### Multiple choice"
   ]
  },
  {
   "cell_type": "code",
   "execution_count": 12,
   "id": "3ce07810",
   "metadata": {},
   "outputs": [
    {
     "name": "stdout",
     "output_type": "stream",
     "text": [
      "Within a charcter class (digit or a-e): ['8', '0', '4', '4']\n"
     ]
    }
   ],
   "source": [
    "print(\"Within a charcter class (digit or a-e):\", [RegexModel(\"[0-9a-e]\").draw() for _ in range(4)])"
   ]
  },
  {
   "cell_type": "code",
   "execution_count": 13,
   "id": "9d559dad",
   "metadata": {},
   "outputs": [
    {
     "name": "stdout",
     "output_type": "stream",
     "text": [
      "Outside a character class (aaa or bbb): ['aaa', 'aaa', 'aaa', 'bbb']\n"
     ]
    }
   ],
   "source": [
    "print(\"Outside a character class (aaa or bbb):\", [RegexModel(\"(aaa|bbb)\").draw() for _ in range(4)])"
   ]
  },
  {
   "cell_type": "code",
   "execution_count": 14,
   "id": "d0a6acec",
   "metadata": {},
   "outputs": [
    {
     "name": "stdout",
     "output_type": "stream",
     "text": [
      "More than two choices (a or b or c): ['a', 'c', 'a', 'a']\n"
     ]
    }
   ],
   "source": [
    "print(\"More than two choices (a or b or c):\", [RegexModel(\"(a|b|c)\").draw() for _ in range(4)])"
   ]
  },
  {
   "cell_type": "code",
   "execution_count": 15,
   "id": "eee80db7",
   "metadata": {},
   "outputs": [
    {
     "name": "stdout",
     "output_type": "stream",
     "text": [
      "Repeats change the probabilities: ['a', 'a', 'a', 'b']\n"
     ]
    }
   ],
   "source": [
    "print(\"Repeats change the probabilities:\", [RegexModel(\"(a|a|a|a|b)\").draw() for _ in range(4)])"
   ]
  },
  {
   "cell_type": "markdown",
   "id": "e697c821",
   "metadata": {},
   "source": [
    "### Repeating character (classes)"
   ]
  },
  {
   "cell_type": "code",
   "execution_count": 16,
   "id": "a0cabf11",
   "metadata": {},
   "outputs": [
    {
     "name": "stdout",
     "output_type": "stream",
     "text": [
      "Repeat digit x3: ['451', '968', '921', '684']\n"
     ]
    }
   ],
   "source": [
    "print(\"Repeat digit x3:\", [RegexModel(\"\\d{3}\").draw() for _ in range(4)])"
   ]
  },
  {
   "cell_type": "code",
   "execution_count": 17,
   "id": "f1061116",
   "metadata": {},
   "outputs": [
    {
     "name": "stdout",
     "output_type": "stream",
     "text": [
      "Repeat digit between 2x and 6x: ['7715', '1900', '409441', '28522']\n"
     ]
    }
   ],
   "source": [
    "print(\"Repeat digit between 2x and 6x:\", [RegexModel(\"\\d{2,6}\").draw() for _ in range(4)])"
   ]
  },
  {
   "cell_type": "markdown",
   "id": "be9ee5f1",
   "metadata": {},
   "source": [
    "## API"
   ]
  },
  {
   "cell_type": "code",
   "execution_count": 18,
   "id": "034703b8",
   "metadata": {
    "scrolled": true
   },
   "outputs": [
    {
     "data": {
      "text/plain": [
       "{'failed': 6,\n",
       " 'success': 0,\n",
       " 'n_tot_char': 6,\n",
       " 'n_char_success': 0,\n",
       " 'n_parameters': 10,\n",
       " 'avg_log_like_per_char': -6.907755278982137,\n",
       " 'avg_log_like_pc_success': 0.0}"
      ]
     },
     "execution_count": 18,
     "metadata": {},
     "output_type": "execute_result"
    }
   ],
   "source": [
    "model = RegexModel.fit(10*[\"a\"]+10*[\"b\"])  # Create a model from data\n",
    "model.regex  # Get regex\n",
    "model.draw()  # Draw a value\n",
    "model = RegexModel(\"\\d(a||ab)[A-Z]{3,6}\")  # Create a model from a regex\n",
    "model_data = model.serialize()  # Serialize the model so that it can be stored in a JSON (or any other) file\n",
    "model = RegexModel.deserialize(model_data)  # Create the model from the serialization\n",
    "model.fit_statistics(3*[\"a\"]+3*[\"b\"])  # Get statistical information on goodness of fit and more"
   ]
  },
  {
   "cell_type": "markdown",
   "id": "cffa0ac5",
   "metadata": {},
   "source": [
    "## Visualization"
   ]
  },
  {
   "cell_type": "code",
   "execution_count": 19,
   "id": "bbc4847e",
   "metadata": {},
   "outputs": [
    {
     "name": "stdout",
     "output_type": "stream",
     "text": [
      "Warning: When  cdn_resources is 'local' jupyter notebook has issues displaying graphics on chrome/safari. Use cdn_resources='in_line' or cdn_resources='remote' if you have issues viewing graphics in a notebook.\n",
      "regex.html\n"
     ]
    },
    {
     "data": {
      "text/html": [
       "\n",
       "        <iframe\n",
       "            width=\"1000px\"\n",
       "            height=\"1000px\"\n",
       "            src=\"regex.html\"\n",
       "            frameborder=\"0\"\n",
       "            allowfullscreen\n",
       "            \n",
       "        ></iframe>\n",
       "        "
      ],
      "text/plain": [
       "<IPython.lib.display.IFrame at 0x7ffe71904a90>"
      ]
     },
     "execution_count": 19,
     "metadata": {},
     "output_type": "execute_result"
    }
   ],
   "source": [
    "from regexmodel.visualization import regex_model_to_pyvis\n",
    "\n",
    "net = regex_model_to_pyvis(model)\n",
    "net.show(\"regex.html\", notebook=True)"
   ]
  },
  {
   "cell_type": "code",
   "execution_count": null,
   "id": "216500f5",
   "metadata": {},
   "outputs": [],
   "source": []
  }
 ],
 "metadata": {
  "kernelspec": {
   "display_name": "Python 3 (ipykernel)",
   "language": "python",
   "name": "python3"
  },
  "language_info": {
   "codemirror_mode": {
    "name": "ipython",
    "version": 3
   },
   "file_extension": ".py",
   "mimetype": "text/x-python",
   "name": "python",
   "nbconvert_exporter": "python",
   "pygments_lexer": "ipython3",
   "version": "3.9.10"
  }
 },
 "nbformat": 4,
 "nbformat_minor": 5
}
